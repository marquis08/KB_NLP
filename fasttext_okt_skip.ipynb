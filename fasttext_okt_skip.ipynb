{
 "cells": [
  {
   "cell_type": "code",
   "execution_count": 21,
   "metadata": {},
   "outputs": [],
   "source": [
    "import pandas as pd\n",
    "import time\n",
    "import os, gc\n",
    "import numpy as np\n",
    "import re"
   ]
  },
  {
   "cell_type": "code",
   "execution_count": 22,
   "metadata": {},
   "outputs": [
    {
     "name": "stdout",
     "output_type": "stream",
     "text": [
      "CPU times: user 915 ms, sys: 68.9 ms, total: 984 ms\n",
      "Wall time: 983 ms\n"
     ]
    }
   ],
   "source": [
    "%%time\n",
    "#train_df=pd.read_csv(\"../KB_NLP/morphs/komo_morphs_train.csv\")\n",
    "#test_df=pd.read_csv(\"../KB_NLP/morphs/komo_morphs_test.csv\")\n",
    "train_df=pd.read_csv(\"../KB_NLP/raw_data/train.csv\")\n",
    "test_df=pd.read_csv(\"../KB_NLP/raw_data/public_test.csv\")"
   ]
  },
  {
   "cell_type": "code",
   "execution_count": 23,
   "metadata": {},
   "outputs": [],
   "source": [
    "from konlpy.tag import Okt\n",
    "okt = Okt()"
   ]
  },
  {
   "cell_type": "code",
   "execution_count": 24,
   "metadata": {},
   "outputs": [],
   "source": [
    "def okt_morphs(sent):\n",
    "    sent = okt.morphs(sent)\n",
    "    return sent\n",
    "\n",
    "def replacement(df):\n",
    "    df['okt'] = df['okt'].replace(\"'\",\"\").replace(\"[\",\"\").replace(\"]\",\"\").replace(\",\",\"\")"
   ]
  },
  {
   "cell_type": "code",
   "execution_count": 25,
   "metadata": {},
   "outputs": [],
   "source": [
    "aa = train_df.iloc[:10,:]"
   ]
  },
  {
   "cell_type": "code",
   "execution_count": 27,
   "metadata": {},
   "outputs": [
    {
     "name": "stdout",
     "output_type": "stream",
     "text": [
      "CPU times: user 126 ms, sys: 290 µs, total: 126 ms\n",
      "Wall time: 63.1 ms\n"
     ]
    },
    {
     "name": "stderr",
     "output_type": "stream",
     "text": [
      "/usr/local/lib/python3.6/dist-packages/ipykernel_launcher.py:1: SettingWithCopyWarning: \n",
      "A value is trying to be set on a copy of a slice from a DataFrame.\n",
      "Try using .loc[row_indexer,col_indexer] = value instead\n",
      "\n",
      "See the caveats in the documentation: http://pandas.pydata.org/pandas-docs/stable/user_guide/indexing.html#returning-a-view-versus-a-copy\n",
      "  \"\"\"Entry point for launching an IPython kernel.\n"
     ]
    }
   ],
   "source": [
    "%%time\n",
    "aa['okt'] = aa['text'].apply(lambda x: okt_morphs(x))\n"
   ]
  },
  {
   "cell_type": "code",
   "execution_count": 28,
   "metadata": {},
   "outputs": [
    {
     "data": {
      "text/html": [
       "<div>\n",
       "<style scoped>\n",
       "    .dataframe tbody tr th:only-of-type {\n",
       "        vertical-align: middle;\n",
       "    }\n",
       "\n",
       "    .dataframe tbody tr th {\n",
       "        vertical-align: top;\n",
       "    }\n",
       "\n",
       "    .dataframe thead th {\n",
       "        text-align: right;\n",
       "    }\n",
       "</style>\n",
       "<table border=\"1\" class=\"dataframe\">\n",
       "  <thead>\n",
       "    <tr style=\"text-align: right;\">\n",
       "      <th></th>\n",
       "      <th>id</th>\n",
       "      <th>year_month</th>\n",
       "      <th>text</th>\n",
       "      <th>smishing</th>\n",
       "      <th>okt</th>\n",
       "    </tr>\n",
       "  </thead>\n",
       "  <tbody>\n",
       "    <tr>\n",
       "      <th>0</th>\n",
       "      <td>0</td>\n",
       "      <td>2017-01</td>\n",
       "      <td>XXX은행성산XXX팀장입니다.행복한주말되세요</td>\n",
       "      <td>0</td>\n",
       "      <td>[XXX, 은행, 성산, XXX, 팀, 장, 입니다, ., 행복한주말, 되세요]</td>\n",
       "    </tr>\n",
       "    <tr>\n",
       "      <th>1</th>\n",
       "      <td>1</td>\n",
       "      <td>2017-01</td>\n",
       "      <td>오늘도많이웃으시는하루시작하세요XXX은행 진월동VIP라운지 XXX올림</td>\n",
       "      <td>0</td>\n",
       "      <td>[오늘, 도, 많이, 웃으시는, 하루, 시작, 하세요, XXX, 은행, 진, 월동,...</td>\n",
       "    </tr>\n",
       "    <tr>\n",
       "      <th>2</th>\n",
       "      <td>2</td>\n",
       "      <td>2017-01</td>\n",
       "      <td>안녕하십니까 고객님. XXX은행입니다.금일 납부하셔야 할 금액은 153600원 입니...</td>\n",
       "      <td>0</td>\n",
       "      <td>[안녕하십니까, 고객, 님, ., XXX, 은행, 입니다, ., 금일, 납부, 하셔...</td>\n",
       "    </tr>\n",
       "    <tr>\n",
       "      <th>3</th>\n",
       "      <td>4</td>\n",
       "      <td>2017-01</td>\n",
       "      <td>XXX 고객님안녕하세요XXX은행 XXX지점입니다지난 한 해 동안 저희 XXX지점에 ...</td>\n",
       "      <td>0</td>\n",
       "      <td>[XXX, 고객, 님, 안녕하세요, XXX, 은행, XXX, 지점, 입니다지난, 한...</td>\n",
       "    </tr>\n",
       "    <tr>\n",
       "      <th>4</th>\n",
       "      <td>5</td>\n",
       "      <td>2017-01</td>\n",
       "      <td>1월은 새로움이 가득XXX입니다.올 한해 더 많이행복한 한해되시길바랍니다</td>\n",
       "      <td>0</td>\n",
       "      <td>[1월, 은, 새, 로움, 이, 가득, XXX, 입니다, ., 올, 한해, 더, 많...</td>\n",
       "    </tr>\n",
       "    <tr>\n",
       "      <th>5</th>\n",
       "      <td>6</td>\n",
       "      <td>2017-01</td>\n",
       "      <td>행복한주말보내세요XXX용현남전담직원대리 XXX올림</td>\n",
       "      <td>0</td>\n",
       "      <td>[행복한주말, 보내세요, XXX, 용, 현남, 전담, 직원, 대리, XXX, 올림]</td>\n",
       "    </tr>\n",
       "    <tr>\n",
       "      <th>6</th>\n",
       "      <td>7</td>\n",
       "      <td>2017-01</td>\n",
       "      <td>XXX 고객님 안녕하세요XXX은행 무교지점 XXX과장입니다 오늘 아침에 눈을 뜨니 ...</td>\n",
       "      <td>0</td>\n",
       "      <td>[XXX, 고객, 님, 안녕하세요, XXX, 은행, 무교, 지점, XXX, 과장, ...</td>\n",
       "    </tr>\n",
       "    <tr>\n",
       "      <th>7</th>\n",
       "      <td>8</td>\n",
       "      <td>2017-01</td>\n",
       "      <td>XXX 고객님지난 한해 베풀어 주신 은혜 진심으로 감사 드립니다.가슴 깊이 간직 하...</td>\n",
       "      <td>0</td>\n",
       "      <td>[XXX, 고객, 님, 지난, 한해, 베풀어, 주신, 은혜, 진심, 으로, 감사, ...</td>\n",
       "    </tr>\n",
       "    <tr>\n",
       "      <th>8</th>\n",
       "      <td>9</td>\n",
       "      <td>2017-01</td>\n",
       "      <td>설연휴 가족들과 훈훈한 정 나누시고 정겨운추억 많이 만드세요XXX오XXX올림</td>\n",
       "      <td>0</td>\n",
       "      <td>[설연휴, 가족, 들, 과, 훈훈한, 정, 나누시고, 정겨운, 추억, 많이, 만드세...</td>\n",
       "    </tr>\n",
       "    <tr>\n",
       "      <th>9</th>\n",
       "      <td>10</td>\n",
       "      <td>2017-01</td>\n",
       "      <td>(광고)XXXBaXXX고객님들 뒤엔XXX 언제나 XXX새로운 마음가짐으로 새롭게 준...</td>\n",
       "      <td>1</td>\n",
       "      <td>[(, 광고, ), XXXBaXXX, 고객, 님, 들, 뒤, 엔, XXX, 언제나,...</td>\n",
       "    </tr>\n",
       "  </tbody>\n",
       "</table>\n",
       "</div>"
      ],
      "text/plain": [
       "   id year_month                                               text  smishing  \\\n",
       "0   0    2017-01                           XXX은행성산XXX팀장입니다.행복한주말되세요         0   \n",
       "1   1    2017-01              오늘도많이웃으시는하루시작하세요XXX은행 진월동VIP라운지 XXX올림         0   \n",
       "2   2    2017-01  안녕하십니까 고객님. XXX은행입니다.금일 납부하셔야 할 금액은 153600원 입니...         0   \n",
       "3   4    2017-01  XXX 고객님안녕하세요XXX은행 XXX지점입니다지난 한 해 동안 저희 XXX지점에 ...         0   \n",
       "4   5    2017-01           1월은 새로움이 가득XXX입니다.올 한해 더 많이행복한 한해되시길바랍니다         0   \n",
       "5   6    2017-01                        행복한주말보내세요XXX용현남전담직원대리 XXX올림         0   \n",
       "6   7    2017-01  XXX 고객님 안녕하세요XXX은행 무교지점 XXX과장입니다 오늘 아침에 눈을 뜨니 ...         0   \n",
       "7   8    2017-01  XXX 고객님지난 한해 베풀어 주신 은혜 진심으로 감사 드립니다.가슴 깊이 간직 하...         0   \n",
       "8   9    2017-01         설연휴 가족들과 훈훈한 정 나누시고 정겨운추억 많이 만드세요XXX오XXX올림         0   \n",
       "9  10    2017-01  (광고)XXXBaXXX고객님들 뒤엔XXX 언제나 XXX새로운 마음가짐으로 새롭게 준...         1   \n",
       "\n",
       "                                                 okt  \n",
       "0       [XXX, 은행, 성산, XXX, 팀, 장, 입니다, ., 행복한주말, 되세요]  \n",
       "1  [오늘, 도, 많이, 웃으시는, 하루, 시작, 하세요, XXX, 은행, 진, 월동,...  \n",
       "2  [안녕하십니까, 고객, 님, ., XXX, 은행, 입니다, ., 금일, 납부, 하셔...  \n",
       "3  [XXX, 고객, 님, 안녕하세요, XXX, 은행, XXX, 지점, 입니다지난, 한...  \n",
       "4  [1월, 은, 새, 로움, 이, 가득, XXX, 입니다, ., 올, 한해, 더, 많...  \n",
       "5     [행복한주말, 보내세요, XXX, 용, 현남, 전담, 직원, 대리, XXX, 올림]  \n",
       "6  [XXX, 고객, 님, 안녕하세요, XXX, 은행, 무교, 지점, XXX, 과장, ...  \n",
       "7  [XXX, 고객, 님, 지난, 한해, 베풀어, 주신, 은혜, 진심, 으로, 감사, ...  \n",
       "8  [설연휴, 가족, 들, 과, 훈훈한, 정, 나누시고, 정겨운, 추억, 많이, 만드세...  \n",
       "9  [(, 광고, ), XXXBaXXX, 고객, 님, 들, 뒤, 엔, XXX, 언제나,...  "
      ]
     },
     "execution_count": 28,
     "metadata": {},
     "output_type": "execute_result"
    }
   ],
   "source": [
    "aa"
   ]
  },
  {
   "cell_type": "code",
   "execution_count": null,
   "metadata": {},
   "outputs": [],
   "source": [
    "aa"
   ]
  },
  {
   "cell_type": "code",
   "execution_count": null,
   "metadata": {},
   "outputs": [],
   "source": []
  },
  {
   "cell_type": "code",
   "execution_count": null,
   "metadata": {},
   "outputs": [],
   "source": []
  },
  {
   "cell_type": "code",
   "execution_count": 2,
   "metadata": {},
   "outputs": [
    {
     "name": "stderr",
     "output_type": "stream",
     "text": [
      "100%|█████████████████████████████████████████████████████████████████████████| 295945/295945 [31:02<00:00, 158.90it/s]\n"
     ]
    }
   ],
   "source": [
    "train_morphs = []\n",
    "for i in tqdm(range(len(train_df))):\n",
    "    morph = okt.morphs(train_df['text'][i])\n",
    "    train_morphs.append(morph)    "
   ]
  },
  {
   "cell_type": "code",
   "execution_count": null,
   "metadata": {},
   "outputs": [],
   "source": [
    "for i in tqdm(range(len(train_df))):\n",
    "    train_df['morphs'][i] = train_df['morphs'][i].replace(\"'\",\"\").replace(\"[\",\"\").replace(\"]\",\"\").replace(\",\",\"\").replace(\".\",\"[SEP]\")"
   ]
  },
  {
   "cell_type": "code",
   "execution_count": null,
   "metadata": {},
   "outputs": [],
   "source": []
  },
  {
   "cell_type": "code",
   "execution_count": 8,
   "metadata": {},
   "outputs": [
    {
     "data": {
      "text/plain": [
       "' ㅇㅡㄴㅎㅐㅇㅅㅓㅇㅅㅏㄴ ㅌㅣㅁㅈㅏㅇㅇㅣㅂㄴㅣㄷㅏ ㅎㅐㅇㅂㅗㄱㅎㅏㄴㅈㅜㅁㅏㄹㄷㅚㅅㅔㅇㅛ'"
      ]
     },
     "execution_count": 8,
     "metadata": {},
     "output_type": "execute_result"
    }
   ],
   "source": [
    "from soynlp.hangle import decompose\n",
    "\n",
    "doublespace_pattern = re.compile('\\s+')\n",
    "\n",
    "def jamo_sentence(sent):\n",
    "\n",
    "    def transform(char):\n",
    "        if char == ' ':\n",
    "            return char\n",
    "        cjj = decompose(char)\n",
    "        try:\n",
    "            len(cjj)\n",
    "        except:\n",
    "            return ' '\n",
    "        if len(cjj) == 1:\n",
    "            return cjj\n",
    "        cjj_ = ''.join(c if c != ' ' else '' for c in cjj)\n",
    "        return cjj_\n",
    "\n",
    "    sent_ = ''.join(transform(char) for char in sent)\n",
    "    sent_ = doublespace_pattern.sub(' ', sent_)\n",
    "    return sent_\n",
    "# 'ㅇㅓ-ㅇㅣ-ㄱㅗ- ㅋㅔㄱㅋㅔㄱ ㅇㅏ-ㅇㅣ-ㄱㅗ-ㅇㅗ-'\n",
    "#def jamo_sentence(sent):\n",
    "#    sent = sent.replace('XXX', 'X')\n",
    "#    def transform(char):\n",
    "#        if char == ' ':\n",
    "#            return char\n",
    "#        elif char == 'X':\n",
    "#            return ' X'\n",
    "#        elif char == '.':\n",
    "#            return '. '\n",
    "#        else:\n",
    "#            return char##\n",
    "\n",
    "#    sent_ = ''.join(transform(char) for char in sent)\n",
    "#    sent_ = doublespace_pattern.sub(' ', sent_)\n",
    "#    return sent_\n",
    "\n",
    "jamo_sentence(train_df.loc[0, 'text'])"
   ]
  },
  {
   "cell_type": "code",
   "execution_count": 9,
   "metadata": {},
   "outputs": [],
   "source": [
    "test_df['jamo'] = test_df['text'].apply(lambda x: jamo_sentence(x))\n",
    "train_df['jamo'] = train_df['text'].apply(lambda x: jamo_sentence(x))"
   ]
  },
  {
   "cell_type": "code",
   "execution_count": 10,
   "metadata": {},
   "outputs": [],
   "source": [
    "raw_corpus_fname = '\\n'.join(pd.concat([train_df['jamo'], test_df['jamo']]))\n",
    "file=open('../KB_NLP/jamo_corpus.txt','w')\n",
    "file.write(raw_corpus_fname)\n",
    "file.close()"
   ]
  },
  {
   "cell_type": "code",
   "execution_count": 2,
   "metadata": {},
   "outputs": [],
   "source": [
    "import fasttext"
   ]
  },
  {
   "cell_type": "code",
   "execution_count": 11,
   "metadata": {},
   "outputs": [
    {
     "name": "stdout",
     "output_type": "stream",
     "text": [
      "CPU times: user 17min 56s, sys: 1.12 s, total: 17min 57s\n",
      "Wall time: 9min 1s\n"
     ]
    }
   ],
   "source": [
    "%%time\n",
    "model = fasttext.train_unsupervised('../KB_NLP/jamo_corpus.txt', \n",
    "                                    model='skipgram' ,\n",
    "                                    loss = 'hs',        # hinge loss\n",
    "                                    ws=1,               # window size\n",
    "                                    lr = 0.01,          # learning rate\n",
    "                                    dim = 200,          # embedding dimension\n",
    "                                    epoch = 5,          # num of epochs\n",
    "                                    min_count = 10,     # minimum count of subwords\n",
    "                                    # encoding = 'utf-8', # input file encoding\n",
    "                                    thread = 2,          # num of threads\n",
    "                                    wordNgrams = 2\n",
    "                                    \n",
    "                                )"
   ]
  },
  {
   "cell_type": "code",
   "execution_count": 12,
   "metadata": {},
   "outputs": [],
   "source": [
    "model.save_model(\"../KB_NLP/bigram_model_file.bin\")\n",
    "#model.save_model(\"/content/drive/My Drive/model_file.bin\")"
   ]
  },
  {
   "cell_type": "code",
   "execution_count": 13,
   "metadata": {},
   "outputs": [
    {
     "name": "stdout",
     "output_type": "stream",
     "text": [
      "CPU times: user 17min 49s, sys: 1.19 s, total: 17min 50s\n",
      "Wall time: 8min 57s\n"
     ]
    }
   ],
   "source": [
    "%%time\n",
    "model = fasttext.train_unsupervised('../KB_NLP/jamo_corpus.txt', \n",
    "                                    model='skipgram' ,\n",
    "                                    loss = 'hs',        # hinge loss\n",
    "                                    ws=1,               # window size\n",
    "                                    lr = 0.01,          # learning rate\n",
    "                                    dim = 200,          # embedding dimension\n",
    "                                    epoch = 5,          # num of epochs\n",
    "                                    min_count = 10,     # minimum count of subwords\n",
    "                                    # encoding = 'utf-8', # input file encoding\n",
    "                                    thread = 2,          # num of threads\n",
    "                                    wordNgrams = 1\n",
    "                                    \n",
    "                                )"
   ]
  },
  {
   "cell_type": "code",
   "execution_count": 14,
   "metadata": {},
   "outputs": [],
   "source": [
    "model.save_model(\"../KB_NLP/unigram_model_file.bin\")\n",
    "#model.save_model(\"/content/drive/My Drive/model_file.bin\")"
   ]
  },
  {
   "cell_type": "code",
   "execution_count": 15,
   "metadata": {},
   "outputs": [
    {
     "name": "stdout",
     "output_type": "stream",
     "text": [
      "CPU times: user 17min 47s, sys: 1.3 s, total: 17min 48s\n",
      "Wall time: 8min 57s\n"
     ]
    }
   ],
   "source": [
    "%%time\n",
    "model = fasttext.train_unsupervised('../KB_NLP/jamo_corpus.txt', \n",
    "                                    model='skipgram' ,\n",
    "                                    loss = 'hs',        # hinge loss\n",
    "                                    ws=1,               # window size\n",
    "                                    lr = 0.01,          # learning rate\n",
    "                                    dim = 200,          # embedding dimension\n",
    "                                    epoch = 5,          # num of epochs\n",
    "                                    min_count = 10,     # minimum count of subwords\n",
    "                                    # encoding = 'utf-8', # input file encoding\n",
    "                                    thread = 2,          # num of threads\n",
    "                                    wordNgrams = 3\n",
    "                                    \n",
    "                                )"
   ]
  },
  {
   "cell_type": "code",
   "execution_count": 16,
   "metadata": {},
   "outputs": [],
   "source": [
    "model.save_model(\"../KB_NLP/trigram_model_file.bin\")\n",
    "#model.save_model(\"/content/drive/My Drive/model_file.bin\")"
   ]
  },
  {
   "cell_type": "code",
   "execution_count": 17,
   "metadata": {},
   "outputs": [
    {
     "name": "stdout",
     "output_type": "stream",
     "text": [
      "CPU times: user 17min 40s, sys: 2.56 s, total: 17min 42s\n",
      "Wall time: 8min 53s\n"
     ]
    }
   ],
   "source": [
    "%%time\n",
    "model = fasttext.train_unsupervised('../KB_NLP/jamo_corpus.txt', \n",
    "                                    model='skipgram' ,\n",
    "                                    loss = 'hs',        # hinge loss\n",
    "                                    ws=1,               # window size\n",
    "                                    lr = 0.01,          # learning rate\n",
    "                                    dim = 200,          # embedding dimension\n",
    "                                    epoch = 5,          # num of epochs\n",
    "                                    min_count = 10,     # minimum count of subwords\n",
    "                                    # encoding = 'utf-8', # input file encoding\n",
    "                                    thread = 2,          # num of threads\n",
    "                                    wordNgrams = 4\n",
    "                                    \n",
    "                                )"
   ]
  },
  {
   "cell_type": "code",
   "execution_count": 18,
   "metadata": {},
   "outputs": [],
   "source": [
    "model.save_model(\"../KB_NLP/4gram_model_file.bin\")\n",
    "#model.save_model(\"/content/drive/My Drive/model_file.bin\")"
   ]
  },
  {
   "cell_type": "code",
   "execution_count": 19,
   "metadata": {},
   "outputs": [
    {
     "name": "stdout",
     "output_type": "stream",
     "text": [
      "CPU times: user 17min 51s, sys: 3.12 s, total: 17min 54s\n",
      "Wall time: 8min 59s\n"
     ]
    }
   ],
   "source": [
    "%%time\n",
    "model = fasttext.train_unsupervised('../KB_NLP/jamo_corpus.txt', \n",
    "                                    model='skipgram' ,\n",
    "                                    loss = 'hs',        # hinge loss\n",
    "                                    ws=1,               # window size\n",
    "                                    lr = 0.01,          # learning rate\n",
    "                                    dim = 200,          # embedding dimension\n",
    "                                    epoch = 5,          # num of epochs\n",
    "                                    min_count = 10,     # minimum count of subwords\n",
    "                                    # encoding = 'utf-8', # input file encoding\n",
    "                                    thread = 2,          # num of threads\n",
    "                                    wordNgrams = 5\n",
    "                                    \n",
    "                                )"
   ]
  },
  {
   "cell_type": "code",
   "execution_count": 20,
   "metadata": {},
   "outputs": [],
   "source": [
    "model.save_model(\"../KB_NLP/5gram_model_file.bin\")\n",
    "#model.save_model(\"/content/drive/My Drive/model_file.bin\")"
   ]
  }
 ],
 "metadata": {
  "kernelspec": {
   "display_name": "Python 3",
   "language": "python",
   "name": "python3"
  },
  "language_info": {
   "codemirror_mode": {
    "name": "ipython",
    "version": 3
   },
   "file_extension": ".py",
   "mimetype": "text/x-python",
   "name": "python",
   "nbconvert_exporter": "python",
   "pygments_lexer": "ipython3",
   "version": "3.7.5"
  }
 },
 "nbformat": 4,
 "nbformat_minor": 4
}
