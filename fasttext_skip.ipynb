{
 "cells": [
  {
   "cell_type": "code",
   "execution_count": 5,
   "metadata": {},
   "outputs": [],
   "source": [
    "import pandas as pd\n",
    "import time\n",
    "import os, gc\n",
    "import numpy as np\n",
    "import re"
   ]
  },
  {
   "cell_type": "code",
   "execution_count": 7,
   "metadata": {},
   "outputs": [
    {
     "name": "stdout",
     "output_type": "stream",
     "text": [
      "CPU times: user 1.07 s, sys: 75.1 ms, total: 1.15 s\n",
      "Wall time: 1.94 s\n"
     ]
    }
   ],
   "source": [
    "%%time\n",
    "#train_df=pd.read_csv(\"../KB_NLP/morphs/komo_morphs_train.csv\")\n",
    "#test_df=pd.read_csv(\"../KB_NLP/morphs/komo_morphs_test.csv\")\n",
    "train_df=pd.read_csv(\"../KB_NLP/raw_data/train.csv\")\n",
    "test_df=pd.read_csv(\"../KB_NLP/raw_data/public_test.csv\")"
   ]
  },
  {
   "cell_type": "code",
   "execution_count": 8,
   "metadata": {},
   "outputs": [
    {
     "data": {
      "text/plain": [
       "' ㅇㅡㄴㅎㅐㅇㅅㅓㅇㅅㅏㄴ ㅌㅣㅁㅈㅏㅇㅇㅣㅂㄴㅣㄷㅏ ㅎㅐㅇㅂㅗㄱㅎㅏㄴㅈㅜㅁㅏㄹㄷㅚㅅㅔㅇㅛ'"
      ]
     },
     "execution_count": 8,
     "metadata": {},
     "output_type": "execute_result"
    }
   ],
   "source": [
    "from soynlp.hangle import decompose\n",
    "\n",
    "doublespace_pattern = re.compile('\\s+')\n",
    "\n",
    "def jamo_sentence(sent):\n",
    "\n",
    "    def transform(char):\n",
    "        if char == ' ':\n",
    "            return char\n",
    "        cjj = decompose(char)\n",
    "        try:\n",
    "            len(cjj)\n",
    "        except:\n",
    "            return ' '\n",
    "        if len(cjj) == 1:\n",
    "            return cjj\n",
    "        cjj_ = ''.join(c if c != ' ' else '' for c in cjj)\n",
    "        return cjj_\n",
    "\n",
    "    sent_ = ''.join(transform(char) for char in sent)\n",
    "    sent_ = doublespace_pattern.sub(' ', sent_)\n",
    "    return sent_\n",
    "# 'ㅇㅓ-ㅇㅣ-ㄱㅗ- ㅋㅔㄱㅋㅔㄱ ㅇㅏ-ㅇㅣ-ㄱㅗ-ㅇㅗ-'\n",
    "#def jamo_sentence(sent):\n",
    "#    sent = sent.replace('XXX', 'X')\n",
    "#    def transform(char):\n",
    "#        if char == ' ':\n",
    "#            return char\n",
    "#        elif char == 'X':\n",
    "#            return ' X'\n",
    "#        elif char == '.':\n",
    "#            return '. '\n",
    "#        else:\n",
    "#            return char##\n",
    "\n",
    "#    sent_ = ''.join(transform(char) for char in sent)\n",
    "#    sent_ = doublespace_pattern.sub(' ', sent_)\n",
    "#    return sent_\n",
    "\n",
    "jamo_sentence(train_df.loc[0, 'text'])"
   ]
  },
  {
   "cell_type": "code",
   "execution_count": 9,
   "metadata": {},
   "outputs": [],
   "source": [
    "test_df['jamo'] = test_df['text'].apply(lambda x: jamo_sentence(x))\n",
    "train_df['jamo'] = train_df['text'].apply(lambda x: jamo_sentence(x))"
   ]
  },
  {
   "cell_type": "code",
   "execution_count": 10,
   "metadata": {},
   "outputs": [],
   "source": [
    "raw_corpus_fname = '\\n'.join(pd.concat([train_df['jamo'], test_df['jamo']]))\n",
    "file=open('../KB_NLP/jamo_corpus.txt','w')\n",
    "file.write(raw_corpus_fname)\n",
    "file.close()"
   ]
  },
  {
   "cell_type": "code",
   "execution_count": 2,
   "metadata": {},
   "outputs": [],
   "source": [
    "import fasttext"
   ]
  },
  {
   "cell_type": "code",
   "execution_count": 11,
   "metadata": {},
   "outputs": [
    {
     "name": "stdout",
     "output_type": "stream",
     "text": [
      "CPU times: user 17min 56s, sys: 1.12 s, total: 17min 57s\n",
      "Wall time: 9min 1s\n"
     ]
    }
   ],
   "source": [
    "%%time\n",
    "model = fasttext.train_unsupervised('../KB_NLP/jamo_corpus.txt', \n",
    "                                    model='skipgram' ,\n",
    "                                    loss = 'hs',        # hinge loss\n",
    "                                    ws=1,               # window size\n",
    "                                    lr = 0.01,          # learning rate\n",
    "                                    dim = 200,          # embedding dimension\n",
    "                                    epoch = 5,          # num of epochs\n",
    "                                    min_count = 10,     # minimum count of subwords\n",
    "                                    # encoding = 'utf-8', # input file encoding\n",
    "                                    thread = 2,          # num of threads\n",
    "                                    wordNgrams = 2\n",
    "                                    \n",
    "                                )"
   ]
  },
  {
   "cell_type": "code",
   "execution_count": 12,
   "metadata": {},
   "outputs": [],
   "source": [
    "model.save_model(\"../KB_NLP/bigram_model_file.bin\")\n",
    "#model.save_model(\"/content/drive/My Drive/model_file.bin\")"
   ]
  },
  {
   "cell_type": "code",
   "execution_count": 13,
   "metadata": {},
   "outputs": [
    {
     "name": "stdout",
     "output_type": "stream",
     "text": [
      "CPU times: user 17min 49s, sys: 1.19 s, total: 17min 50s\n",
      "Wall time: 8min 57s\n"
     ]
    }
   ],
   "source": [
    "%%time\n",
    "model = fasttext.train_unsupervised('../KB_NLP/jamo_corpus.txt', \n",
    "                                    model='skipgram' ,\n",
    "                                    loss = 'hs',        # hinge loss\n",
    "                                    ws=1,               # window size\n",
    "                                    lr = 0.01,          # learning rate\n",
    "                                    dim = 200,          # embedding dimension\n",
    "                                    epoch = 5,          # num of epochs\n",
    "                                    min_count = 10,     # minimum count of subwords\n",
    "                                    # encoding = 'utf-8', # input file encoding\n",
    "                                    thread = 2,          # num of threads\n",
    "                                    wordNgrams = 1\n",
    "                                    \n",
    "                                )"
   ]
  },
  {
   "cell_type": "code",
   "execution_count": 14,
   "metadata": {},
   "outputs": [],
   "source": [
    "model.save_model(\"../KB_NLP/unigram_model_file.bin\")\n",
    "#model.save_model(\"/content/drive/My Drive/model_file.bin\")"
   ]
  },
  {
   "cell_type": "code",
   "execution_count": 15,
   "metadata": {},
   "outputs": [
    {
     "name": "stdout",
     "output_type": "stream",
     "text": [
      "CPU times: user 17min 47s, sys: 1.3 s, total: 17min 48s\n",
      "Wall time: 8min 57s\n"
     ]
    }
   ],
   "source": [
    "%%time\n",
    "model = fasttext.train_unsupervised('../KB_NLP/jamo_corpus.txt', \n",
    "                                    model='skipgram' ,\n",
    "                                    loss = 'hs',        # hinge loss\n",
    "                                    ws=1,               # window size\n",
    "                                    lr = 0.01,          # learning rate\n",
    "                                    dim = 200,          # embedding dimension\n",
    "                                    epoch = 5,          # num of epochs\n",
    "                                    min_count = 10,     # minimum count of subwords\n",
    "                                    # encoding = 'utf-8', # input file encoding\n",
    "                                    thread = 2,          # num of threads\n",
    "                                    wordNgrams = 3\n",
    "                                    \n",
    "                                )"
   ]
  },
  {
   "cell_type": "code",
   "execution_count": 16,
   "metadata": {},
   "outputs": [],
   "source": [
    "model.save_model(\"../KB_NLP/trigram_model_file.bin\")\n",
    "#model.save_model(\"/content/drive/My Drive/model_file.bin\")"
   ]
  },
  {
   "cell_type": "code",
   "execution_count": 17,
   "metadata": {},
   "outputs": [
    {
     "name": "stdout",
     "output_type": "stream",
     "text": [
      "CPU times: user 17min 40s, sys: 2.56 s, total: 17min 42s\n",
      "Wall time: 8min 53s\n"
     ]
    }
   ],
   "source": [
    "%%time\n",
    "model = fasttext.train_unsupervised('../KB_NLP/jamo_corpus.txt', \n",
    "                                    model='skipgram' ,\n",
    "                                    loss = 'hs',        # hinge loss\n",
    "                                    ws=1,               # window size\n",
    "                                    lr = 0.01,          # learning rate\n",
    "                                    dim = 200,          # embedding dimension\n",
    "                                    epoch = 5,          # num of epochs\n",
    "                                    min_count = 10,     # minimum count of subwords\n",
    "                                    # encoding = 'utf-8', # input file encoding\n",
    "                                    thread = 2,          # num of threads\n",
    "                                    wordNgrams = 4\n",
    "                                    \n",
    "                                )"
   ]
  },
  {
   "cell_type": "code",
   "execution_count": 18,
   "metadata": {},
   "outputs": [],
   "source": [
    "model.save_model(\"../KB_NLP/4gram_model_file.bin\")\n",
    "#model.save_model(\"/content/drive/My Drive/model_file.bin\")"
   ]
  },
  {
   "cell_type": "code",
   "execution_count": 19,
   "metadata": {},
   "outputs": [
    {
     "name": "stdout",
     "output_type": "stream",
     "text": [
      "CPU times: user 17min 51s, sys: 3.12 s, total: 17min 54s\n",
      "Wall time: 8min 59s\n"
     ]
    }
   ],
   "source": [
    "%%time\n",
    "model = fasttext.train_unsupervised('../KB_NLP/jamo_corpus.txt', \n",
    "                                    model='skipgram' ,\n",
    "                                    loss = 'hs',        # hinge loss\n",
    "                                    ws=1,               # window size\n",
    "                                    lr = 0.01,          # learning rate\n",
    "                                    dim = 200,          # embedding dimension\n",
    "                                    epoch = 5,          # num of epochs\n",
    "                                    min_count = 10,     # minimum count of subwords\n",
    "                                    # encoding = 'utf-8', # input file encoding\n",
    "                                    thread = 2,          # num of threads\n",
    "                                    wordNgrams = 5\n",
    "                                    \n",
    "                                )"
   ]
  },
  {
   "cell_type": "code",
   "execution_count": 20,
   "metadata": {},
   "outputs": [],
   "source": [
    "model.save_model(\"../KB_NLP/5gram_model_file.bin\")\n",
    "#model.save_model(\"/content/drive/My Drive/model_file.bin\")"
   ]
  }
 ],
 "metadata": {
  "kernelspec": {
   "display_name": "Python 3",
   "language": "python",
   "name": "python3"
  },
  "language_info": {
   "codemirror_mode": {
    "name": "ipython",
    "version": 3
   },
   "file_extension": ".py",
   "mimetype": "text/x-python",
   "name": "python",
   "nbconvert_exporter": "python",
   "pygments_lexer": "ipython3",
   "version": "3.7.5"
  }
 },
 "nbformat": 4,
 "nbformat_minor": 4
}
