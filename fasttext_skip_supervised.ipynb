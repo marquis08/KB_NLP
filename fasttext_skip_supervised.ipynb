{
 "cells": [
  {
   "cell_type": "code",
   "execution_count": 1,
   "metadata": {},
   "outputs": [],
   "source": [
    "import pandas as pd\n",
    "import time\n",
    "import os, gc\n",
    "import numpy as np\n",
    "import re"
   ]
  },
  {
   "cell_type": "code",
   "execution_count": 2,
   "metadata": {},
   "outputs": [],
   "source": [
    "from sklearn.metrics import roc_auc_score"
   ]
  },
  {
   "cell_type": "code",
   "execution_count": 3,
   "metadata": {},
   "outputs": [
    {
     "name": "stdout",
     "output_type": "stream",
     "text": [
      "CPU times: user 2.76 s, sys: 185 ms, total: 2.94 s\n",
      "Wall time: 4.78 s\n"
     ]
    }
   ],
   "source": [
    "%%time\n",
    "#train_df=pd.read_csv(\"../KB_NLP/morphs/komo_morphs_train.csv\")\n",
    "#test_df=pd.read_csv(\"../KB_NLP/morphs/komo_morphs_test.csv\")\n",
    "train_df=pd.read_csv(\"../KB_NLP/jamo_data/jamo_train.csv\")\n",
    "test_df=pd.read_csv(\"../KB_NLP/jamo_data/jamo_test.csv\")"
   ]
  },
  {
   "cell_type": "code",
   "execution_count": 4,
   "metadata": {},
   "outputs": [
    {
     "data": {
      "text/html": [
       "<div>\n",
       "<style scoped>\n",
       "    .dataframe tbody tr th:only-of-type {\n",
       "        vertical-align: middle;\n",
       "    }\n",
       "\n",
       "    .dataframe tbody tr th {\n",
       "        vertical-align: top;\n",
       "    }\n",
       "\n",
       "    .dataframe thead th {\n",
       "        text-align: right;\n",
       "    }\n",
       "</style>\n",
       "<table border=\"1\" class=\"dataframe\">\n",
       "  <thead>\n",
       "    <tr style=\"text-align: right;\">\n",
       "      <th></th>\n",
       "      <th>id</th>\n",
       "      <th>year_month</th>\n",
       "      <th>text</th>\n",
       "      <th>smishing</th>\n",
       "      <th>jamo</th>\n",
       "    </tr>\n",
       "  </thead>\n",
       "  <tbody>\n",
       "    <tr>\n",
       "      <th>0</th>\n",
       "      <td>0</td>\n",
       "      <td>2017-01</td>\n",
       "      <td>XXX은행성산XXX팀장입니다.행복한주말되세요</td>\n",
       "      <td>0</td>\n",
       "      <td>ㅇㅡㄴㅎㅐㅇㅅㅓㅇㅅㅏㄴ ㅌㅣㅁㅈㅏㅇㅇㅣㅂㄴㅣㄷㅏ ㅎㅐㅇㅂㅗㄱㅎㅏㄴㅈㅜㅁㅏㄹㄷㅚㅅㅔㅇㅛ</td>\n",
       "    </tr>\n",
       "    <tr>\n",
       "      <th>1</th>\n",
       "      <td>1</td>\n",
       "      <td>2017-01</td>\n",
       "      <td>오늘도많이웃으시는하루시작하세요XXX은행 진월동VIP라운지 XXX올림</td>\n",
       "      <td>0</td>\n",
       "      <td>ㅇㅗㄴㅡㄹㄷㅗㅁㅏㄶㅇㅣㅇㅜㅅㅇㅡㅅㅣㄴㅡㄴㅎㅏㄹㅜㅅㅣㅈㅏㄱㅎㅏㅅㅔㅇㅛ ㅇㅡㄴㅎㅐㅇ ㅈ...</td>\n",
       "    </tr>\n",
       "    <tr>\n",
       "      <th>2</th>\n",
       "      <td>2</td>\n",
       "      <td>2017-01</td>\n",
       "      <td>안녕하십니까 고객님. XXX은행입니다.금일 납부하셔야 할 금액은 153600원 입니...</td>\n",
       "      <td>0</td>\n",
       "      <td>ㅇㅏㄴㄴㅕㅇㅎㅏㅅㅣㅂㄴㅣㄲㅏ ㄱㅗㄱㅐㄱㄴㅣㅁ ㅇㅡㄴㅎㅐㅇㅇㅣㅂㄴㅣㄷㅏ ㄱㅡㅁㅇㅣㄹ ...</td>\n",
       "    </tr>\n",
       "    <tr>\n",
       "      <th>3</th>\n",
       "      <td>4</td>\n",
       "      <td>2017-01</td>\n",
       "      <td>XXX 고객님안녕하세요XXX은행 XXX지점입니다지난 한 해 동안 저희 XXX지점에 ...</td>\n",
       "      <td>0</td>\n",
       "      <td>ㄱㅗㄱㅐㄱㄴㅣㅁㅇㅏㄴㄴㅕㅇㅎㅏㅅㅔㅇㅛ ㅇㅡㄴㅎㅐㅇ ㅈㅣㅈㅓㅁㅇㅣㅂㄴㅣㄷㅏㅈㅣㄴㅏㄴ...</td>\n",
       "    </tr>\n",
       "    <tr>\n",
       "      <th>4</th>\n",
       "      <td>5</td>\n",
       "      <td>2017-01</td>\n",
       "      <td>1월은 새로움이 가득XXX입니다.올 한해 더 많이행복한 한해되시길바랍니다</td>\n",
       "      <td>0</td>\n",
       "      <td>ㅇㅝㄹㅇㅡㄴ ㅅㅐㄹㅗㅇㅜㅁㅇㅣ ㄱㅏㄷㅡㄱ ㅇㅣㅂㄴㅣㄷㅏ ㅇㅗㄹ ㅎㅏㄴㅎㅐ ㄷㅓ ㅁ...</td>\n",
       "    </tr>\n",
       "  </tbody>\n",
       "</table>\n",
       "</div>"
      ],
      "text/plain": [
       "   id year_month                                               text  smishing  \\\n",
       "0   0    2017-01                           XXX은행성산XXX팀장입니다.행복한주말되세요         0   \n",
       "1   1    2017-01              오늘도많이웃으시는하루시작하세요XXX은행 진월동VIP라운지 XXX올림         0   \n",
       "2   2    2017-01  안녕하십니까 고객님. XXX은행입니다.금일 납부하셔야 할 금액은 153600원 입니...         0   \n",
       "3   4    2017-01  XXX 고객님안녕하세요XXX은행 XXX지점입니다지난 한 해 동안 저희 XXX지점에 ...         0   \n",
       "4   5    2017-01           1월은 새로움이 가득XXX입니다.올 한해 더 많이행복한 한해되시길바랍니다         0   \n",
       "\n",
       "                                                jamo  \n",
       "0    ㅇㅡㄴㅎㅐㅇㅅㅓㅇㅅㅏㄴ ㅌㅣㅁㅈㅏㅇㅇㅣㅂㄴㅣㄷㅏ ㅎㅐㅇㅂㅗㄱㅎㅏㄴㅈㅜㅁㅏㄹㄷㅚㅅㅔㅇㅛ  \n",
       "1  ㅇㅗㄴㅡㄹㄷㅗㅁㅏㄶㅇㅣㅇㅜㅅㅇㅡㅅㅣㄴㅡㄴㅎㅏㄹㅜㅅㅣㅈㅏㄱㅎㅏㅅㅔㅇㅛ ㅇㅡㄴㅎㅐㅇ ㅈ...  \n",
       "2  ㅇㅏㄴㄴㅕㅇㅎㅏㅅㅣㅂㄴㅣㄲㅏ ㄱㅗㄱㅐㄱㄴㅣㅁ ㅇㅡㄴㅎㅐㅇㅇㅣㅂㄴㅣㄷㅏ ㄱㅡㅁㅇㅣㄹ ...  \n",
       "3   ㄱㅗㄱㅐㄱㄴㅣㅁㅇㅏㄴㄴㅕㅇㅎㅏㅅㅔㅇㅛ ㅇㅡㄴㅎㅐㅇ ㅈㅣㅈㅓㅁㅇㅣㅂㄴㅣㄷㅏㅈㅣㄴㅏㄴ...  \n",
       "4   ㅇㅝㄹㅇㅡㄴ ㅅㅐㄹㅗㅇㅜㅁㅇㅣ ㄱㅏㄷㅡㄱ ㅇㅣㅂㄴㅣㄷㅏ ㅇㅗㄹ ㅎㅏㄴㅎㅐ ㄷㅓ ㅁ...  "
      ]
     },
     "execution_count": 4,
     "metadata": {},
     "output_type": "execute_result"
    }
   ],
   "source": [
    "train_df.head()"
   ]
  },
  {
   "cell_type": "code",
   "execution_count": 5,
   "metadata": {},
   "outputs": [
    {
     "name": "stdout",
     "output_type": "stream",
     "text": [
      "Make Labeled jamo\n",
      "CPU times: user 4.29 s, sys: 227 ms, total: 4.51 s\n",
      "Wall time: 7.01 s\n"
     ]
    }
   ],
   "source": [
    "%%time\n",
    "with open(\"../KB_NLP/jamo_label_train.txt\",'w') as f:\n",
    "    for i in range(len(train_df)): #\n",
    "        f.write(\"__label__\")\n",
    "        f.write(\"{}\".format(train_df['smishing'][i]))\n",
    "        f.write(\" {}\".format(train_df['jamo'][i]))\n",
    "        f.write(\"\\n\")\n",
    "\n",
    "print(\"Make Labeled jamo\")"
   ]
  },
  {
   "cell_type": "code",
   "execution_count": 6,
   "metadata": {},
   "outputs": [],
   "source": [
    "f = open('../KB_NLP/jamo_label_train.txt','r')\n",
    "train_text = f.readlines()\n",
    "f.close()"
   ]
  },
  {
   "cell_type": "code",
   "execution_count": 7,
   "metadata": {},
   "outputs": [
    {
     "data": {
      "text/plain": [
       "['__label__0  ㅇㅡㄴㅎㅐㅇㅅㅓㅇㅅㅏㄴ ㅌㅣㅁㅈㅏㅇㅇㅣㅂㄴㅣㄷㅏ ㅎㅐㅇㅂㅗㄱㅎㅏㄴㅈㅜㅁㅏㄹㄷㅚㅅㅔㅇㅛ\\n',\n",
       " '__label__0 ㅇㅗㄴㅡㄹㄷㅗㅁㅏㄶㅇㅣㅇㅜㅅㅇㅡㅅㅣㄴㅡㄴㅎㅏㄹㅜㅅㅣㅈㅏㄱㅎㅏㅅㅔㅇㅛ ㅇㅡㄴㅎㅐㅇ ㅈㅣㄴㅇㅝㄹㄷㅗㅇ ㄹㅏㅇㅜㄴㅈㅣ ㅇㅗㄹㄹㅣㅁ\\n',\n",
       " '__label__0 ㅇㅏㄴㄴㅕㅇㅎㅏㅅㅣㅂㄴㅣㄲㅏ ㄱㅗㄱㅐㄱㄴㅣㅁ ㅇㅡㄴㅎㅐㅇㅇㅣㅂㄴㅣㄷㅏ ㄱㅡㅁㅇㅣㄹ ㄴㅏㅂㅂㅜㅎㅏㅅㅕㅇㅑ ㅎㅏㄹ ㄱㅡㅁㅇㅐㄱㅇㅡㄴ ㅇㅝㄴ ㅇㅣㅂㄴㅣㄷㅏ ㄱㅏㅁㅅㅏㅎㅏㅂㄴㅣㄷㅏ ㅅㅐㅎㅐ ㅂㅗㄱ ㅁㅏㄶㅇㅣ ㅂㅏㄷㅇㅡㅅㅣㅂㅅㅣㅇㅗ ㅇㅡㄴㅎㅐㅇㅇㅗㄱㅍㅗ ㅇㅗㄹㄹㅣㅁ\\n',\n",
       " '__label__0  ㄱㅗㄱㅐㄱㄴㅣㅁㅇㅏㄴㄴㅕㅇㅎㅏㅅㅔㅇㅛ ㅇㅡㄴㅎㅐㅇ ㅈㅣㅈㅓㅁㅇㅣㅂㄴㅣㄷㅏㅈㅣㄴㅏㄴ ㅎㅏㄴ ㅎㅐ ㄷㅗㅇㅇㅏㄴ ㅈㅓㅎㅢ ㅈㅣㅈㅓㅁㅇㅔ ㅂㅗㄴㅐㅈㅜㅅㅣㄴ ㅅㅓㅇㅇㅝㄴㅇㅔ ㄱㅏㅁㅅㅏㄷㅡㄹㅣㅂㄴㅣㄷㅏ ㅅㅓㄹㄹㅔㅁㅇㅡㄹㅗ ㅅㅣㅈㅏㄱㅎㅏㄴ ㄴㅕㄴㅅㅗㅁㅏㅇㅎㅏㅅㅣㄴㅡㄴ ㅇㅣㄹ ㅁㅗㄷㅜ ㅇㅣ ㄱㅗㄱㅐㄱㄴㅣㅁㅇㅢ ㄱㅏㅈㅓㅇㅇㅔ ㄴㅡㄹ ㄱㅓㄴㄱㅏㅇㄱㅘ ㅎㅐㅇㅂㅗㄱㅇㅣ ㅎㅏㅁㄲㅔㅎㅏㄱㅣㄹ ㄱㅣㅇㅝㄴㅎㅏㄱㅔㅆㅅㅡㅂㄴㅣㄷㅏ ㅅㅏㄹㅏㅇㅎㅏㄴㅡㄴ ㄱㅏㅈㅗㄱㄱㅘ ㅎㅏㅁㄲㅔ ㅈㅓㅇㅇㅡㄹ ㄴㅏㄴㅜㄴㅡㄴ ㅎㅐㅇㅂㅗㄱㅎㅏㄴ ㅅㅓㄹ ㅁㅕㅇㅈㅓㄹ ㅂㅗㄴㅐㅅㅔㅇㅛ ㅇㅡㄴㅎㅐㅇ ㅈㅣㅈㅓㅁㅈㅣㄱㅇㅝㄴㅇㅣㄹㄷㅗㅇ\\n']"
      ]
     },
     "execution_count": 7,
     "metadata": {},
     "output_type": "execute_result"
    }
   ],
   "source": [
    "train_text[:4]"
   ]
  },
  {
   "cell_type": "code",
   "execution_count": 8,
   "metadata": {},
   "outputs": [],
   "source": [
    "import csv"
   ]
  },
  {
   "cell_type": "markdown",
   "metadata": {},
   "source": [
    "train_text = pd.DataFrame(train_text)\n",
    "train_text.to_csv(\"../KB_NLP/jamo_label_train.txt\", index=False, sep=' ', header=False, quoting=csv.QUOTE_NONE, quotechar='', escapechar=' ')"
   ]
  },
  {
   "cell_type": "code",
   "execution_count": 9,
   "metadata": {},
   "outputs": [],
   "source": [
    "import fasttext"
   ]
  },
  {
   "cell_type": "code",
   "execution_count": 10,
   "metadata": {},
   "outputs": [
    {
     "name": "stdout",
     "output_type": "stream",
     "text": [
      "['__label__0', '__label__1'] labels for predicting\n"
     ]
    }
   ],
   "source": [
    "model = fasttext.train_supervised(\"../KB_NLP/jamo_label_train.txt\", label_prefix='__label__', thread=2, epoch=10)\n",
    "print(model.labels, \"labels for predicting\")"
   ]
  },
  {
   "cell_type": "markdown",
   "metadata": {},
   "source": [
    "---\n",
    "### Prediction"
   ]
  },
  {
   "cell_type": "code",
   "execution_count": 12,
   "metadata": {},
   "outputs": [
    {
     "data": {
      "text/plain": [
       "' ㄱㅗㄱㅐㄱㄴㅣㅁ ㅇㅏㄴㄴㅕㅇㅎㅏㅅㅔㅇㅛ ㅅㅐㄹㅗㅂㄱㅔ ㅅㅣㅈㅏㄱㅎㅏㄴㅡㄴ ㅎㅏㄴ ㅈㅜ ㅎㅐㅇㅂㅗㄱ ㄱㅏㄷㅡㄱㅎㅏㅅㅣㄱㅣㄹ ㄱㅣㅇㅝㄴㅎㅏㅂㄴㅣㄷㅏ ㅈㅣㄴㅏㄴㅈㅜ ㄱㅡㄹㄹㅗㅂㅓㄹ ㅈㅡㅇㅅㅣㄴㅡㄴ ㅍㅏㅇㅝㄹ ㅁㅣ ㅇㅕㄴㅈㅜㄴ ㅇㅢㅈㅏㅇㅇㅣ ㅌㅗㅇㅎㅘㅈㅓㅇㅊㅐㄱㅇㅔ ㄷㅐㅎㅐ ㅇㅘㄴㅎㅘㅈㅓㄱㅇㅣㄴ ㅌㅐㄷㅗ ㅂㅕㄴㅎㅘㄹㅡㄹ ㅂㅗㅇㅣㄴ ㄱㅓㅅㅇㅣ ㅈㅜㅊㅗ ㅌㅜㅈㅏㅅㅣㅁㄹㅣ ㄱㅐㅅㅓㄴㅇㅡㄹㅗ ㅇㅣㅇㅓㅈㅣㅁㅕ ㅋㅡㄴ ㅍㅗㄱ ㅅㅏㅇㅅㅡㅇ ㅁㅏㄱㅏㅁㅎㅐㅆㅅㅡㅂㄴㅣㄷㅏ ㄷㅓㅂㅜㄹㅇㅓ ㅁㅣㅈㅜㅇ ㅊㅏㄱㅘㄴㄱㅡㅂ ㅁㅜㅇㅕㄱㅎㅕㅂㅅㅏㅇㅇㅣ ㅅㅜㄴㅈㅗㄹㅗㅂㄱㅔ ㅈㅣㄴㅎㅐㅇㄷㅚㄴ ㅈㅓㅁㄷㅗ ㄱㅡㅇㅈㅓㅇㅈㅓㄱㅇㅣㅇㅓㅆㅅㅡㅂㄴㅣㄷㅏ ㅇㅝㄴㄷㅏㄹㄹㅓ ㅎㅘㄴㅇㅠㄹㅇㅣ ㅈㅜㄱㅏㄴ ㅇㅝㄴㅇㅡㄹㅗ ㅎㅏㄹㅏㄱㅎㅏㄴㅡㄴ ㄱㅏㅇㅜㄴㄷㅔ ㅇㅚㄱㅜㄱㅇㅣㄴ ㅌㅜㅈㅏㅈㅏㅇㅢ ㄱㅜㄱㄴㅐㅈㅡㅇㅅㅣ ㅅㅜㄴㅁㅐㅅㅜ ㄱㅠㅁㅗㄱㅏ ㅊㅓㄴㅇㅓㄱㅇㅡㄹ ㅅㅏㅇㅎㅚㅎㅏㅁㅕ ㅅㅜㄱㅡㅂㅇㅣ ㄱㅐㅅㅓㄴㄷㅚㄴ ㅈㅓㅁㄷㅗ ㅈㅜㅁㅗㄱㅎㅐㅂㅗㄹ ㅍㅣㄹㅇㅛㄱㅏ ㅇㅣㅆㅅㅡㅂㄴㅣㄷㅏ ㄱㅡㅁㅈㅜ ㅅㅣㅈㅏㅇㅇㅡㄴ ㅁㅣㄱㅜㄱ ㄱㅡㅁㅇㅠㅇㅈㅜ ㅅㅣㄹㅈㅓㄱㅂㅏㄹㅍㅛㄹㅡㄹ ㅅㅣㅈㅏㄱㅇㅡㄹㅗ ㅂㅗㄴㄱㅕㄱㅈㅓㄱㅇㅣㄴ ㅅㅣㄹㅈㅓㄱ ㅅㅣㅈㅡㄴㅇㅔ ㅈㅣㄴㅇㅣㅂㅎㅏㄱㅔ ㄷㅚㅂㄴㅣㄷㅏ ㅈㅣㄴㅏㄴㅈㅜ ㅇㅐㅍㅡㄹ ㅅㅏㅁㅅㅓㅇㅈㅓㄴㅈㅏ ㄷㅡㅇ ㅈㅜㅇㅛㄱㅣㅇㅓㅂㄷㅡㄹㅇㅢ ㅂㅜㄴㄱㅣ ㅅㅣㄹㅈㅓㄱ ㅈㅓㄴㅁㅏㅇ ㅎㅏㅎㅑㅇ ㅈㅗㅈㅓㅇㅇㅣ ㅇㅣㅆㅇㅓㅆㄷㅓㄴ ㅈㅓㅁㅇㅡㄹ ㅊㅏㅁㄱㅗㅎㅏㄴㄷㅏㅁㅕㄴ ㅇㅗㄹㅎㅐ ㄱㅡㄹㄹㅗㅂㅓㄹ ㅅㅓㅇㅈㅏㅇ ㄷㅜㄴㅎㅘ ㄱㅣㅈㅗㅅㅗㄱㅇㅔㅅㅓ ㄱㅣㅇㅓㅂㄷㅡㄹㅇㅢ ㅅㅜㄴㅇㅣㄱ ㄱㅏㅁㅅㅗ ㅊㅜㅇㅣㄹㅡㄹ ㄱㅘㄴㅅㅣㅁㅇㅣㅆㄱㅔ ㅅㅏㄹㅍㅕㅂㅗㅅㅣㄹ ㅍㅣㄹㅇㅛㄱㅏ ㅇㅣㅆㅇㅓ ㅂㅗㅇㅣㅂㄴㅣㄷㅏ ㅈㅜ ㅎㅜㅂㅏㄴㅇㅔㄴㅡㄴ ㅂㅡㄹㅔㄱㅅㅣㅌㅡ ㅇㅕㅇㄱㅜㄱ ㅎㅏㅇㅝㄴ ㅍㅛㄱㅕㄹㅇㅣ ㅇㅖㅈㅓㅇㄷㅚㅇㅓ ㅇㅣㅆㅅㅡㅂㄴㅣㄷㅏ ㅊㅜㅇㅝㅈㅣㄴ ㄴㅏㄹㅆㅣㅇㅔ ㄱㅓㄴㄱㅏㅇ ㅇㅠㅇㅢㅎㅏㅅㅣㄱㅗ ㅈㅗㅎㅇㅡㄴ ㅎㅏㄴㅈㅜ ㄷㅚㅅㅔㅇㅛ ㄱㅏㅁㅅㅏㅎㅏㅂㄴㅣㄷㅏ ㅇㅡㄴㅎㅐㅇㅅㅗㅇㄷㅗ ㅅㅔㄴㅌㅓ ㅇㅗㄹㄹㅣㅁ'"
      ]
     },
     "execution_count": 12,
     "metadata": {},
     "output_type": "execute_result"
    }
   ],
   "source": [
    "test_df['jamo'][0]"
   ]
  },
  {
   "cell_type": "code",
   "execution_count": 18,
   "metadata": {},
   "outputs": [],
   "source": [
    "from tqdm import tqdm"
   ]
  },
  {
   "cell_type": "code",
   "execution_count": 19,
   "metadata": {},
   "outputs": [
    {
     "name": "stderr",
     "output_type": "stream",
     "text": [
      "100%|██████████| 1626/1626 [00:00<00:00, 27011.80it/s]\n"
     ]
    }
   ],
   "source": [
    "prob_list = []\n",
    "for i in tqdm(range(len(test_df))):\n",
    "    pred = model.predict(test_df['jamo'][i])\n",
    "    prob_list.append(pred[1][0])"
   ]
  },
  {
   "cell_type": "code",
   "execution_count": 21,
   "metadata": {},
   "outputs": [],
   "source": [
    "result_df = pd.DataFrame()\n",
    "result_df['id'] = test_df['id']\n",
    "result_df['smishing'] = prob_list"
   ]
  },
  {
   "cell_type": "code",
   "execution_count": 22,
   "metadata": {},
   "outputs": [
    {
     "data": {
      "text/html": [
       "<div>\n",
       "<style scoped>\n",
       "    .dataframe tbody tr th:only-of-type {\n",
       "        vertical-align: middle;\n",
       "    }\n",
       "\n",
       "    .dataframe tbody tr th {\n",
       "        vertical-align: top;\n",
       "    }\n",
       "\n",
       "    .dataframe thead th {\n",
       "        text-align: right;\n",
       "    }\n",
       "</style>\n",
       "<table border=\"1\" class=\"dataframe\">\n",
       "  <thead>\n",
       "    <tr style=\"text-align: right;\">\n",
       "      <th></th>\n",
       "      <th>id</th>\n",
       "      <th>smishing</th>\n",
       "    </tr>\n",
       "  </thead>\n",
       "  <tbody>\n",
       "    <tr>\n",
       "      <th>count</th>\n",
       "      <td>1626.000000</td>\n",
       "      <td>1626.000000</td>\n",
       "    </tr>\n",
       "    <tr>\n",
       "      <th>mean</th>\n",
       "      <td>340812.500000</td>\n",
       "      <td>0.989630</td>\n",
       "    </tr>\n",
       "    <tr>\n",
       "      <th>std</th>\n",
       "      <td>469.530084</td>\n",
       "      <td>0.048730</td>\n",
       "    </tr>\n",
       "    <tr>\n",
       "      <th>min</th>\n",
       "      <td>340000.000000</td>\n",
       "      <td>0.508975</td>\n",
       "    </tr>\n",
       "    <tr>\n",
       "      <th>25%</th>\n",
       "      <td>340406.250000</td>\n",
       "      <td>0.999904</td>\n",
       "    </tr>\n",
       "    <tr>\n",
       "      <th>50%</th>\n",
       "      <td>340812.500000</td>\n",
       "      <td>1.000010</td>\n",
       "    </tr>\n",
       "    <tr>\n",
       "      <th>75%</th>\n",
       "      <td>341218.750000</td>\n",
       "      <td>1.000010</td>\n",
       "    </tr>\n",
       "    <tr>\n",
       "      <th>max</th>\n",
       "      <td>341625.000000</td>\n",
       "      <td>1.000010</td>\n",
       "    </tr>\n",
       "  </tbody>\n",
       "</table>\n",
       "</div>"
      ],
      "text/plain": [
       "                  id     smishing\n",
       "count    1626.000000  1626.000000\n",
       "mean   340812.500000     0.989630\n",
       "std       469.530084     0.048730\n",
       "min    340000.000000     0.508975\n",
       "25%    340406.250000     0.999904\n",
       "50%    340812.500000     1.000010\n",
       "75%    341218.750000     1.000010\n",
       "max    341625.000000     1.000010"
      ]
     },
     "execution_count": 22,
     "metadata": {},
     "output_type": "execute_result"
    }
   ],
   "source": [
    "result_df.describe()"
   ]
  },
  {
   "cell_type": "code",
   "execution_count": null,
   "metadata": {},
   "outputs": [],
   "source": []
  },
  {
   "cell_type": "code",
   "execution_count": 13,
   "metadata": {},
   "outputs": [
    {
     "name": "stdout",
     "output_type": "stream",
     "text": [
      "__label__0 is the predicteed label\n",
      "0.9999371767044067 is the prob score\n"
     ]
    }
   ],
   "source": [
    "pred = model.predict(test_df['jamo'][0])\n",
    "\n",
    "print(pred[0][0], 'is the predicteed label')\n",
    "print(pred[1][0], 'is the prob score')"
   ]
  },
  {
   "cell_type": "code",
   "execution_count": 14,
   "metadata": {},
   "outputs": [
    {
     "name": "stdout",
     "output_type": "stream",
     "text": [
      "__label__0 is the predicteed label\n",
      "0.9846146702766418 is the prob score\n"
     ]
    }
   ],
   "source": [
    "pred = model.predict(test_df['jamo'][1])\n",
    "\n",
    "print(pred[0][0], 'is the predicteed label')\n",
    "print(pred[1][0], 'is the prob score')"
   ]
  },
  {
   "cell_type": "code",
   "execution_count": 16,
   "metadata": {},
   "outputs": [
    {
     "name": "stdout",
     "output_type": "stream",
     "text": [
      "__label__0 is the predicteed label\n",
      "1.000009536743164 is the prob score\n"
     ]
    }
   ],
   "source": [
    "pred = model.predict(test_df['jamo'][161])\n",
    "\n",
    "print(pred[0][0], 'is the predicteed label')\n",
    "print(pred[1][0], 'is the prob score')"
   ]
  },
  {
   "cell_type": "code",
   "execution_count": null,
   "metadata": {},
   "outputs": [],
   "source": []
  },
  {
   "cell_type": "code",
   "execution_count": null,
   "metadata": {},
   "outputs": [],
   "source": []
  },
  {
   "cell_type": "code",
   "execution_count": null,
   "metadata": {},
   "outputs": [],
   "source": []
  },
  {
   "cell_type": "code",
   "execution_count": null,
   "metadata": {},
   "outputs": [],
   "source": []
  },
  {
   "cell_type": "code",
   "execution_count": 19,
   "metadata": {},
   "outputs": [
    {
     "name": "stdout",
     "output_type": "stream",
     "text": [
      "Make Labeled jamo\n",
      "CPU times: user 17.6 ms, sys: 3.92 ms, total: 21.6 ms\n",
      "Wall time: 21.1 ms\n"
     ]
    }
   ],
   "source": [
    "%%time\n",
    "with open(\"../KB_NLP/jamo_label_test.txt\",'w') as f:\n",
    "    for i in range(len(test_df)): #\n",
    "        #f.write(\"__label__\")\n",
    "        #f.write(\"{}\".format(train_df['smishing'][i]))\n",
    "        f.write(\"{}\".format(test_df['jamo'][i]))\n",
    "        #f.write(\"\\n\")\n",
    "\n",
    "print(\"Make Labeled jamo\")"
   ]
  },
  {
   "cell_type": "code",
   "execution_count": 20,
   "metadata": {},
   "outputs": [],
   "source": [
    "f = open('../KB_NLP/jamo_label_test.txt','r')\n",
    "test_text = f.readlines()\n",
    "f.close()"
   ]
  },
  {
   "cell_type": "code",
   "execution_count": null,
   "metadata": {},
   "outputs": [],
   "source": []
  },
  {
   "cell_type": "code",
   "execution_count": 39,
   "metadata": {},
   "outputs": [
    {
     "name": "stdout",
     "output_type": "stream",
     "text": [
      "__label__0 is the predicteed label\n",
      "1.0000100135803223 is the prob score\n"
     ]
    }
   ],
   "source": [
    "pred = model.predict(\"ㄱㄴㄷㅇㄻㄴㅇㄻㄷㅈㅂㅈㄷㅂㅈㄷㅈㅂ담ㄴㅇㄴㅇㅂㅈㄷ\")\n",
    "\n",
    "print(pred[0][0], 'is the predicteed label')\n",
    "print(pred[1][0], 'is the prob score')"
   ]
  },
  {
   "cell_type": "code",
   "execution_count": 30,
   "metadata": {},
   "outputs": [
    {
     "data": {
      "text/plain": [
       "\u001b[0;31mType:\u001b[0m        tuple\n",
       "\u001b[0;31mString form:\u001b[0m ([['__label__0']], array([[0.99953866]]))\n",
       "\u001b[0;31mLength:\u001b[0m      2\n",
       "\u001b[0;31mDocstring:\u001b[0m  \n",
       "tuple() -> empty tuple\n",
       "tuple(iterable) -> tuple initialized from iterable's items\n",
       "\n",
       "If the argument is a tuple, the return value is the same object.\n"
      ]
     },
     "metadata": {},
     "output_type": "display_data"
    }
   ],
   "source": [
    "pred?"
   ]
  },
  {
   "cell_type": "code",
   "execution_count": 32,
   "metadata": {},
   "outputs": [
    {
     "ename": "IndexError",
     "evalue": "index 2 is out of bounds for axis 0 with size 1",
     "output_type": "error",
     "traceback": [
      "\u001b[0;31m---------------------------------------------------------------------------\u001b[0m",
      "\u001b[0;31mIndexError\u001b[0m                                Traceback (most recent call last)",
      "\u001b[0;32m<ipython-input-32-8fe97c7495db>\u001b[0m in \u001b[0;36m<module>\u001b[0;34m\u001b[0m\n\u001b[0;32m----> 1\u001b[0;31m \u001b[0mpred\u001b[0m\u001b[0;34m[\u001b[0m\u001b[0;36m1\u001b[0m\u001b[0;34m]\u001b[0m\u001b[0;34m[\u001b[0m\u001b[0;36m2\u001b[0m\u001b[0;34m]\u001b[0m\u001b[0;34m\u001b[0m\u001b[0;34m\u001b[0m\u001b[0m\n\u001b[0m",
      "\u001b[0;31mIndexError\u001b[0m: index 2 is out of bounds for axis 0 with size 1"
     ]
    }
   ],
   "source": [
    "pred[1][2]"
   ]
  },
  {
   "cell_type": "markdown",
   "metadata": {},
   "source": [
    "---\n",
    "### Evaluation"
   ]
  },
  {
   "cell_type": "code",
   "execution_count": 27,
   "metadata": {},
   "outputs": [
    {
     "ename": "NameError",
     "evalue": "name 'test' is not defined",
     "output_type": "error",
     "traceback": [
      "\u001b[0;31m---------------------------------------------------------------------------\u001b[0m",
      "\u001b[0;31mNameError\u001b[0m                                 Traceback (most recent call last)",
      "\u001b[0;32m<ipython-input-27-228f85ecb0c3>\u001b[0m in \u001b[0;36m<module>\u001b[0;34m\u001b[0m\n\u001b[0;32m----> 1\u001b[0;31m \u001b[0mlabels\u001b[0m \u001b[0;34m=\u001b[0m \u001b[0;34m[\u001b[0m\u001b[0;36m0\u001b[0m \u001b[0;32mif\u001b[0m \u001b[0mx\u001b[0m\u001b[0;34m.\u001b[0m\u001b[0msplit\u001b[0m\u001b[0;34m(\u001b[0m\u001b[0;34m' '\u001b[0m\u001b[0;34m)\u001b[0m\u001b[0;34m[\u001b[0m\u001b[0;36m0\u001b[0m\u001b[0;34m]\u001b[0m \u001b[0;34m==\u001b[0m \u001b[0;34m'__label__1'\u001b[0m \u001b[0;32melse\u001b[0m \u001b[0;36m1\u001b[0m \u001b[0;32mfor\u001b[0m \u001b[0mx\u001b[0m \u001b[0;32min\u001b[0m \u001b[0mtest\u001b[0m\u001b[0;34m]\u001b[0m\u001b[0;34m\u001b[0m\u001b[0;34m\u001b[0m\u001b[0m\n\u001b[0m\u001b[1;32m      2\u001b[0m \u001b[0mpred_labels\u001b[0m \u001b[0;34m=\u001b[0m \u001b[0;34m[\u001b[0m\u001b[0;36m0\u001b[0m \u001b[0;32mif\u001b[0m \u001b[0mx\u001b[0m \u001b[0;34m==\u001b[0m \u001b[0;34m[\u001b[0m\u001b[0;34m'__label__1'\u001b[0m\u001b[0;34m]\u001b[0m \u001b[0;32melse\u001b[0m \u001b[0;36m1\u001b[0m \u001b[0;32mfor\u001b[0m \u001b[0mx\u001b[0m \u001b[0;32min\u001b[0m \u001b[0mpred\u001b[0m\u001b[0;34m[\u001b[0m\u001b[0;36m0\u001b[0m\u001b[0;34m]\u001b[0m\u001b[0;34m]\u001b[0m\u001b[0;34m\u001b[0m\u001b[0;34m\u001b[0m\u001b[0m\n\u001b[1;32m      3\u001b[0m \u001b[0;34m\u001b[0m\u001b[0m\n\u001b[1;32m      4\u001b[0m \u001b[0mprint\u001b[0m\u001b[0;34m(\u001b[0m\u001b[0mroc_auc_score\u001b[0m\u001b[0;34m(\u001b[0m\u001b[0mlabels\u001b[0m\u001b[0;34m,\u001b[0m \u001b[0mpred_labels\u001b[0m\u001b[0;34m)\u001b[0m\u001b[0;34m)\u001b[0m\u001b[0;34m\u001b[0m\u001b[0;34m\u001b[0m\u001b[0m\n",
      "\u001b[0;31mNameError\u001b[0m: name 'test' is not defined"
     ]
    }
   ],
   "source": [
    "labels = [0 if x.split(' ')[0] == '__label__1' else 1 for x in test]\n",
    "pred_labels = [0 if x == ['__label__1'] else 1 for x in pred[0]]\n",
    "\n",
    "print(roc_auc_score(labels, pred_labels))"
   ]
  },
  {
   "cell_type": "code",
   "execution_count": 24,
   "metadata": {},
   "outputs": [
    {
     "data": {
      "text/plain": [
       "\u001b[0;31mType:\u001b[0m        tuple\n",
       "\u001b[0;31mString form:\u001b[0m ([['__label__0']], array([[0.99953866]]))\n",
       "\u001b[0;31mLength:\u001b[0m      2\n",
       "\u001b[0;31mDocstring:\u001b[0m  \n",
       "tuple() -> empty tuple\n",
       "tuple(iterable) -> tuple initialized from iterable's items\n",
       "\n",
       "If the argument is a tuple, the return value is the same object.\n"
      ]
     },
     "metadata": {},
     "output_type": "display_data"
    }
   ],
   "source": [
    "pred?"
   ]
  },
  {
   "cell_type": "code",
   "execution_count": null,
   "metadata": {},
   "outputs": [],
   "source": []
  },
  {
   "cell_type": "code",
   "execution_count": null,
   "metadata": {},
   "outputs": [],
   "source": []
  },
  {
   "cell_type": "code",
   "execution_count": 6,
   "metadata": {},
   "outputs": [],
   "source": [
    "import fasttext"
   ]
  },
  {
   "cell_type": "code",
   "execution_count": 8,
   "metadata": {},
   "outputs": [
    {
     "ename": "ValueError",
     "evalue": "vector::_M_default_append",
     "output_type": "error",
     "traceback": [
      "\u001b[0;31m---------------------------------------------------------------------------\u001b[0m",
      "\u001b[0;31mValueError\u001b[0m                                Traceback (most recent call last)",
      "\u001b[0;32m<timed exec>\u001b[0m in \u001b[0;36m<module>\u001b[0;34m\u001b[0m\n",
      "\u001b[0;32m/usr/local/lib/python3.6/dist-packages/fasttext/FastText.py\u001b[0m in \u001b[0;36mtrain_supervised\u001b[0;34m(*kargs, **kwargs)\u001b[0m\n\u001b[1;32m    429\u001b[0m     \u001b[0ma\u001b[0m \u001b[0;34m=\u001b[0m \u001b[0m_build_args\u001b[0m\u001b[0;34m(\u001b[0m\u001b[0mparams\u001b[0m\u001b[0;34m)\u001b[0m\u001b[0;34m\u001b[0m\u001b[0;34m\u001b[0m\u001b[0m\n\u001b[1;32m    430\u001b[0m     \u001b[0mft\u001b[0m \u001b[0;34m=\u001b[0m \u001b[0m_FastText\u001b[0m\u001b[0;34m(\u001b[0m\u001b[0margs\u001b[0m\u001b[0;34m=\u001b[0m\u001b[0ma\u001b[0m\u001b[0;34m)\u001b[0m\u001b[0;34m\u001b[0m\u001b[0;34m\u001b[0m\u001b[0m\n\u001b[0;32m--> 431\u001b[0;31m     \u001b[0mfasttext\u001b[0m\u001b[0;34m.\u001b[0m\u001b[0mtrain\u001b[0m\u001b[0;34m(\u001b[0m\u001b[0mft\u001b[0m\u001b[0;34m.\u001b[0m\u001b[0mf\u001b[0m\u001b[0;34m,\u001b[0m \u001b[0ma\u001b[0m\u001b[0;34m)\u001b[0m\u001b[0;34m\u001b[0m\u001b[0;34m\u001b[0m\u001b[0m\n\u001b[0m\u001b[1;32m    432\u001b[0m     \u001b[0;32mreturn\u001b[0m \u001b[0mft\u001b[0m\u001b[0;34m\u001b[0m\u001b[0;34m\u001b[0m\u001b[0m\n\u001b[1;32m    433\u001b[0m \u001b[0;34m\u001b[0m\u001b[0m\n",
      "\u001b[0;31mValueError\u001b[0m: vector::_M_default_append"
     ]
    }
   ],
   "source": [
    "%%time\n",
    "model = fasttext.train_supervised('../KB_NLP/jamo_corpus.txt', \n",
    "                                    #model='skipgram' ,\n",
    "                                    loss = 'hs',        # hinge loss\n",
    "                                    ws=1,               # window size\n",
    "                                    lr = 0.01,          # learning rate\n",
    "                                    dim = 200,          # embedding dimension\n",
    "                                    epoch = 5,          # num of epochs\n",
    "                                    min_count = 10,     # minimum count of subwords\n",
    "                                    # encoding = 'utf-8', # input file encoding\n",
    "                                    thread = 2,          # num of threads\n",
    "                                    wordNgrams = 2\n",
    "                                    \n",
    "                                )"
   ]
  },
  {
   "cell_type": "code",
   "execution_count": null,
   "metadata": {},
   "outputs": [],
   "source": [
    "%%time\n",
    "model = fasttext.train_unsupervised('../KB_NLP/jamo_corpus.txt', \n",
    "                                    model='skipgram' ,\n",
    "                                    loss = 'hs',        # hinge loss\n",
    "                                    ws=1,               # window size\n",
    "                                    lr = 0.01,          # learning rate\n",
    "                                    dim = 200,          # embedding dimension\n",
    "                                    epoch = 5,          # num of epochs\n",
    "                                    min_count = 10,     # minimum count of subwords\n",
    "                                    # encoding = 'utf-8', # input file encoding\n",
    "                                    thread = 2,          # num of threads\n",
    "                                    wordNgrams = 2\n",
    "                                    \n",
    "                                )"
   ]
  },
  {
   "cell_type": "code",
   "execution_count": null,
   "metadata": {},
   "outputs": [],
   "source": []
  },
  {
   "cell_type": "code",
   "execution_count": null,
   "metadata": {},
   "outputs": [],
   "source": [
    "%%time\n",
    "model = fasttext.train_unsupervised('../KB_NLP/jamo_corpus.txt', \n",
    "                                    model='skipgram' ,\n",
    "                                    loss = 'hs',        # hinge loss\n",
    "                                    ws=1,               # window size\n",
    "                                    lr = 0.01,          # learning rate\n",
    "                                    dim = 200,          # embedding dimension\n",
    "                                    epoch = 5,          # num of epochs\n",
    "                                    min_count = 10,     # minimum count of subwords\n",
    "                                    # encoding = 'utf-8', # input file encoding\n",
    "                                    thread = 2,          # num of threads\n",
    "                                    wordNgrams = 2\n",
    "                                    \n",
    "                                )"
   ]
  },
  {
   "cell_type": "code",
   "execution_count": null,
   "metadata": {},
   "outputs": [],
   "source": [
    "model.save_model(\"../KB_NLP/bigram_model_file.bin\")\n",
    "#model.save_model(\"/content/drive/My Drive/model_file.bin\")"
   ]
  },
  {
   "cell_type": "code",
   "execution_count": null,
   "metadata": {},
   "outputs": [],
   "source": [
    "%%time\n",
    "model = fasttext.train_unsupervised('../KB_NLP/jamo_corpus.txt', \n",
    "                                    model='skipgram' ,\n",
    "                                    loss = 'hs',        # hinge loss\n",
    "                                    ws=1,               # window size\n",
    "                                    lr = 0.01,          # learning rate\n",
    "                                    dim = 200,          # embedding dimension\n",
    "                                    epoch = 5,          # num of epochs\n",
    "                                    min_count = 10,     # minimum count of subwords\n",
    "                                    # encoding = 'utf-8', # input file encoding\n",
    "                                    thread = 2,          # num of threads\n",
    "                                    wordNgrams = 1\n",
    "                                    \n",
    "                                )"
   ]
  },
  {
   "cell_type": "code",
   "execution_count": null,
   "metadata": {},
   "outputs": [],
   "source": [
    "model.save_model(\"../KB_NLP/unigram_model_file.bin\")\n",
    "#model.save_model(\"/content/drive/My Drive/model_file.bin\")"
   ]
  },
  {
   "cell_type": "code",
   "execution_count": null,
   "metadata": {},
   "outputs": [],
   "source": [
    "%%time\n",
    "model = fasttext.train_unsupervised('../KB_NLP/jamo_corpus.txt', \n",
    "                                    model='skipgram' ,\n",
    "                                    loss = 'hs',        # hinge loss\n",
    "                                    ws=1,               # window size\n",
    "                                    lr = 0.01,          # learning rate\n",
    "                                    dim = 200,          # embedding dimension\n",
    "                                    epoch = 5,          # num of epochs\n",
    "                                    min_count = 10,     # minimum count of subwords\n",
    "                                    # encoding = 'utf-8', # input file encoding\n",
    "                                    thread = 2,          # num of threads\n",
    "                                    wordNgrams = 3\n",
    "                                    \n",
    "                                )"
   ]
  },
  {
   "cell_type": "code",
   "execution_count": null,
   "metadata": {},
   "outputs": [],
   "source": [
    "model.save_model(\"../KB_NLP/trigram_model_file.bin\")\n",
    "#model.save_model(\"/content/drive/My Drive/model_file.bin\")"
   ]
  },
  {
   "cell_type": "code",
   "execution_count": null,
   "metadata": {},
   "outputs": [],
   "source": [
    "%%time\n",
    "model = fasttext.train_unsupervised('../KB_NLP/jamo_corpus.txt', \n",
    "                                    model='skipgram' ,\n",
    "                                    loss = 'hs',        # hinge loss\n",
    "                                    ws=1,               # window size\n",
    "                                    lr = 0.01,          # learning rate\n",
    "                                    dim = 200,          # embedding dimension\n",
    "                                    epoch = 5,          # num of epochs\n",
    "                                    min_count = 10,     # minimum count of subwords\n",
    "                                    # encoding = 'utf-8', # input file encoding\n",
    "                                    thread = 2,          # num of threads\n",
    "                                    wordNgrams = 4\n",
    "                                    \n",
    "                                )"
   ]
  },
  {
   "cell_type": "code",
   "execution_count": null,
   "metadata": {},
   "outputs": [],
   "source": [
    "model.save_model(\"../KB_NLP/4gram_model_file.bin\")\n",
    "#model.save_model(\"/content/drive/My Drive/model_file.bin\")"
   ]
  },
  {
   "cell_type": "code",
   "execution_count": null,
   "metadata": {},
   "outputs": [],
   "source": [
    "%%time\n",
    "model = fasttext.train_unsupervised('../KB_NLP/jamo_corpus.txt', \n",
    "                                    model='skipgram' ,\n",
    "                                    loss = 'hs',        # hinge loss\n",
    "                                    ws=1,               # window size\n",
    "                                    lr = 0.01,          # learning rate\n",
    "                                    dim = 200,          # embedding dimension\n",
    "                                    epoch = 5,          # num of epochs\n",
    "                                    min_count = 10,     # minimum count of subwords\n",
    "                                    # encoding = 'utf-8', # input file encoding\n",
    "                                    thread = 2,          # num of threads\n",
    "                                    wordNgrams = 5\n",
    "                                    \n",
    "                                )"
   ]
  },
  {
   "cell_type": "code",
   "execution_count": null,
   "metadata": {},
   "outputs": [],
   "source": [
    "model.save_model(\"../KB_NLP/5gram_model_file.bin\")\n",
    "#model.save_model(\"/content/drive/My Drive/model_file.bin\")"
   ]
  }
 ],
 "metadata": {
  "kernelspec": {
   "display_name": "Python 3",
   "language": "python",
   "name": "python3"
  },
  "language_info": {
   "codemirror_mode": {
    "name": "ipython",
    "version": 3
   },
   "file_extension": ".py",
   "mimetype": "text/x-python",
   "name": "python",
   "nbconvert_exporter": "python",
   "pygments_lexer": "ipython3",
   "version": "3.7.5"
  }
 },
 "nbformat": 4,
 "nbformat_minor": 4
}
