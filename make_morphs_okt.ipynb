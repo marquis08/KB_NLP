{
 "cells": [
  {
   "cell_type": "markdown",
   "metadata": {},
   "source": [
    "# LOAD Konlpy"
   ]
  },
  {
   "cell_type": "code",
   "execution_count": 1,
   "metadata": {},
   "outputs": [],
   "source": [
    "import pandas as pd\n",
    "import os\n",
    "from tqdm import tqdm_notebook, tqdm\n",
    "\n",
    "\n",
    "Data_dir=\"../KB_NLP/raw_data\"\n",
    "train_df = pd.read_csv(os.path.join(Data_dir,\"train.csv\"))\n",
    "train_df['text'] = train_df['text'].astype(str) "
   ]
  },
  {
   "cell_type": "markdown",
   "metadata": {},
   "source": [
    "---\n",
    "### Hannanum"
   ]
  },
  {
   "cell_type": "code",
   "execution_count": 2,
   "metadata": {},
   "outputs": [],
   "source": [
    "from konlpy.tag import Hannanum\n",
    "hanna = Hannanum()"
   ]
  },
  {
   "cell_type": "code",
   "execution_count": 3,
   "metadata": {},
   "outputs": [
    {
     "name": "stdout",
     "output_type": "stream",
     "text": [
      "['XXX은행성산XXX팀장입니/N', '이/J', '다/E', './S', '행복한주말되/N', '이/J', '세요/E']\n"
     ]
    }
   ],
   "source": [
    "a0 = train_df['text'][0]\n",
    "a0 = hanna.pos(a0, ntags=9, flatten=True, join=True)\n",
    "print(a0)"
   ]
  },
  {
   "cell_type": "code",
   "execution_count": 7,
   "metadata": {},
   "outputs": [
    {
     "name": "stdout",
     "output_type": "stream",
     "text": [
      "['XXX은행성산XXX팀장입니/NC', '이/JP', '다/EF', './SF', '행복한주말되/NC', '이/JP', '세요/EF']\n"
     ]
    }
   ],
   "source": [
    "a0 = train_df['text'][0]\n",
    "a0 = hanna.pos(a0, ntags=22, flatten=True, join=True)\n",
    "print(a0)"
   ]
  },
  {
   "cell_type": "code",
   "execution_count": 8,
   "metadata": {},
   "outputs": [
    {
     "name": "stdout",
     "output_type": "stream",
     "text": [
      "['XXX은행성산XXX팀장입니', '이', '다', '.', '행복한주말되', '이', '세요']\n"
     ]
    }
   ],
   "source": [
    "a0 = train_df['text'][0]\n",
    "a0 = hanna.morphs(a0)\n",
    "print(a0)"
   ]
  },
  {
   "cell_type": "markdown",
   "metadata": {},
   "source": [
    "---\n",
    "### Kkma"
   ]
  },
  {
   "cell_type": "code",
   "execution_count": 9,
   "metadata": {},
   "outputs": [],
   "source": [
    "from konlpy.tag import Kkma\n",
    "kk = Kkma()"
   ]
  },
  {
   "cell_type": "code",
   "execution_count": 10,
   "metadata": {},
   "outputs": [
    {
     "name": "stdout",
     "output_type": "stream",
     "text": [
      "['XXX/OL', '은행/NNG', '성산/NNG', 'XXX/OL', '팀장/NNG', '이/VCP', 'ㅂ니다/EFN', './SF', '행복/NNG', '하/XSV', 'ㄴ/ETD', '주말/NNG', '되/XSV', '세요/EFN']\n"
     ]
    }
   ],
   "source": [
    "a0 = train_df['text'][0]\n",
    "a0 = kk.pos(a0, flatten=True, join=True)\n",
    "print(a0)"
   ]
  },
  {
   "cell_type": "code",
   "execution_count": 12,
   "metadata": {},
   "outputs": [
    {
     "name": "stdout",
     "output_type": "stream",
     "text": [
      "['XXX', '은행', '성산', 'XXX', '팀장', '이', 'ㅂ니다', '.', '행복', '하', 'ㄴ', '주말', '되', '세요']\n"
     ]
    }
   ],
   "source": [
    "a0 = train_df['text'][0]\n",
    "a0 = kk.morphs(a0)\n",
    "print(a0)"
   ]
  },
  {
   "cell_type": "code",
   "execution_count": 18,
   "metadata": {},
   "outputs": [
    {
     "data": {
      "text/plain": [
       "0                             XXX은행성산XXX팀장입니다.행복한주말되세요\n",
       "1                오늘도많이웃으시는하루시작하세요XXX은행 진월동VIP라운지 XXX올림\n",
       "2    안녕하십니까 고객님. XXX은행입니다.금일 납부하셔야 할 금액은 153600원 입니...\n",
       "3    XXX 고객님안녕하세요XXX은행 XXX지점입니다지난 한 해 동안 저희 XXX지점에 ...\n",
       "4             1월은 새로움이 가득XXX입니다.올 한해 더 많이행복한 한해되시길바랍니다\n",
       "Name: text, dtype: object"
      ]
     },
     "execution_count": 18,
     "metadata": {},
     "output_type": "execute_result"
    }
   ],
   "source": [
    "train_df['text'].head()"
   ]
  },
  {
   "cell_type": "code",
   "execution_count": null,
   "metadata": {},
   "outputs": [],
   "source": []
  },
  {
   "cell_type": "code",
   "execution_count": 5,
   "metadata": {},
   "outputs": [
    {
     "name": "stdout",
     "output_type": "stream",
     "text": [
      "[[['XXX은행성산XXX팀장입니/N', '이/J', '다/E']], [['./S']], [], [['행복한주말되/N', '이/J', '세요/E']]]\n"
     ]
    }
   ],
   "source": [
    "a0 = train_df['text'][0]\n",
    "a0 = hanna.pos(a0, ntags=9, flatten=False, join=True)\n",
    "print(a0)"
   ]
  },
  {
   "cell_type": "code",
   "execution_count": 4,
   "metadata": {},
   "outputs": [
    {
     "name": "stdout",
     "output_type": "stream",
     "text": [
      "[('XXX은행성산XXX팀장입니', 'N'), ('이', 'J'), ('다', 'E'), ('.', 'S'), ('행복한주말되', 'N'), ('이', 'J'), ('세요', 'E')]\n"
     ]
    }
   ],
   "source": [
    "a0 = train_df['text'][0]\n",
    "a0 = hanna.pos(a0, ntags=9, flatten=True, join=False)\n",
    "print(a0)"
   ]
  },
  {
   "cell_type": "code",
   "execution_count": null,
   "metadata": {},
   "outputs": [],
   "source": []
  },
  {
   "cell_type": "code",
   "execution_count": null,
   "metadata": {},
   "outputs": [],
   "source": [
    "from konlpy.tag import Okt\n",
    "\n",
    "okt = Okt()\n"
   ]
  },
  {
   "cell_type": "code",
   "execution_count": 2,
   "metadata": {},
   "outputs": [
    {
     "name": "stderr",
     "output_type": "stream",
     "text": [
      "100%|█████████████████████████████████████████████████████████████████████████| 295945/295945 [31:02<00:00, 158.90it/s]\n"
     ]
    }
   ],
   "source": [
    "train_morphs = []\n",
    "for i in tqdm(range(len(train_df))):\n",
    "    morph = okt.morphs(train_df['text'][i])\n",
    "    train_morphs.append(morph)    "
   ]
  },
  {
   "cell_type": "code",
   "execution_count": 4,
   "metadata": {},
   "outputs": [],
   "source": [
    "test_df = pd.read_csv(os.path.join(Data_dir,\"public_test.csv\"))\n",
    "test_df['text'] = test_df['text'].astype(str) "
   ]
  },
  {
   "cell_type": "code",
   "execution_count": 5,
   "metadata": {},
   "outputs": [
    {
     "name": "stderr",
     "output_type": "stream",
     "text": [
      "100%|█████████████████████████████████████████████████████████████████████████████| 1626/1626 [00:14<00:00, 110.48it/s]"
     ]
    },
    {
     "name": "stdout",
     "output_type": "stream",
     "text": [
      "Wall time: 14.7 s\n"
     ]
    },
    {
     "name": "stderr",
     "output_type": "stream",
     "text": [
      "\n"
     ]
    }
   ],
   "source": [
    "%%time\n",
    "test_morphs = []\n",
    "for i in tqdm(range(len(test_df))):\n",
    "    morph = okt.morphs(test_df['text'][i])\n",
    "    test_morphs.append(morph)    "
   ]
  },
  {
   "cell_type": "code",
   "execution_count": 6,
   "metadata": {},
   "outputs": [],
   "source": [
    "train_df['morphs'] = train_morphs\n",
    "test_df['morphs'] = test_morphs"
   ]
  },
  {
   "cell_type": "code",
   "execution_count": 8,
   "metadata": {},
   "outputs": [],
   "source": [
    "train_df['morphs'] = train_df['morphs'].astype(str)\n",
    "test_df['morphs'] = test_df['morphs'].astype(str)"
   ]
  },
  {
   "cell_type": "code",
   "execution_count": 9,
   "metadata": {},
   "outputs": [
    {
     "name": "stderr",
     "output_type": "stream",
     "text": [
      "  0%|                                                                                       | 0/295945 [00:00<?, ?it/s]c:\\users\\roal2\\appdata\\local\\programs\\python\\python37\\lib\\site-packages\\ipykernel_launcher.py:2: SettingWithCopyWarning: \n",
      "A value is trying to be set on a copy of a slice from a DataFrame\n",
      "\n",
      "See the caveats in the documentation: http://pandas.pydata.org/pandas-docs/stable/user_guide/indexing.html#returning-a-view-versus-a-copy\n",
      "  \n",
      "100%|█████████████████████████████████████████████████████████████████████████| 295945/295945 [22:04<00:00, 223.38it/s]\n"
     ]
    }
   ],
   "source": [
    "for i in tqdm(range(len(train_df))):\n",
    "    train_df['morphs'][i] = train_df['morphs'][i].replace(\"'\",\"\").replace(\"[\",\"\").replace(\"]\",\"\").replace(\",\",\"\").replace(\".\",\"[SEP]\")"
   ]
  },
  {
   "cell_type": "code",
   "execution_count": 10,
   "metadata": {},
   "outputs": [
    {
     "name": "stderr",
     "output_type": "stream",
     "text": [
      "  0%|                                                                                         | 0/1626 [00:00<?, ?it/s]c:\\users\\roal2\\appdata\\local\\programs\\python\\python37\\lib\\site-packages\\ipykernel_launcher.py:2: SettingWithCopyWarning: \n",
      "A value is trying to be set on a copy of a slice from a DataFrame\n",
      "\n",
      "See the caveats in the documentation: http://pandas.pydata.org/pandas-docs/stable/user_guide/indexing.html#returning-a-view-versus-a-copy\n",
      "  \n",
      "100%|███████████████████████████████████████████████████████████████████████████| 1626/1626 [00:00<00:00, 11809.85it/s]\n"
     ]
    }
   ],
   "source": [
    "for i in tqdm(range(len(test_df))):\n",
    "    test_df['morphs'][i] = test_df['morphs'][i].replace(\"'\",\"\").replace(\"[\",\"\").replace(\"]\",\"\").replace(\",\",\"\").replace(\".\",\"[SEP]\")"
   ]
  },
  {
   "cell_type": "code",
   "execution_count": 3,
   "metadata": {},
   "outputs": [
    {
     "data": {
      "text/plain": [
       "295945"
      ]
     },
     "execution_count": 3,
     "metadata": {},
     "output_type": "execute_result"
    }
   ],
   "source": [
    "len(train_morphs)"
   ]
  },
  {
   "cell_type": "code",
   "execution_count": 11,
   "metadata": {},
   "outputs": [
    {
     "data": {
      "text/html": [
       "<div>\n",
       "<style scoped>\n",
       "    .dataframe tbody tr th:only-of-type {\n",
       "        vertical-align: middle;\n",
       "    }\n",
       "\n",
       "    .dataframe tbody tr th {\n",
       "        vertical-align: top;\n",
       "    }\n",
       "\n",
       "    .dataframe thead th {\n",
       "        text-align: right;\n",
       "    }\n",
       "</style>\n",
       "<table border=\"1\" class=\"dataframe\">\n",
       "  <thead>\n",
       "    <tr style=\"text-align: right;\">\n",
       "      <th></th>\n",
       "      <th>id</th>\n",
       "      <th>year_month</th>\n",
       "      <th>text</th>\n",
       "      <th>smishing</th>\n",
       "      <th>morphs</th>\n",
       "    </tr>\n",
       "  </thead>\n",
       "  <tbody>\n",
       "    <tr>\n",
       "      <th>0</th>\n",
       "      <td>0</td>\n",
       "      <td>2017-01</td>\n",
       "      <td>XXX은행성산XXX팀장입니다.행복한주말되세요</td>\n",
       "      <td>0</td>\n",
       "      <td>XXX 은행 성산 XXX 팀 장 입니다 [SEP] 행복한주말 되세요</td>\n",
       "    </tr>\n",
       "    <tr>\n",
       "      <th>1</th>\n",
       "      <td>1</td>\n",
       "      <td>2017-01</td>\n",
       "      <td>오늘도많이웃으시는하루시작하세요XXX은행 진월동VIP라운지 XXX올림</td>\n",
       "      <td>0</td>\n",
       "      <td>오늘 도 많이 웃으시는 하루 시작 하세요 XXX 은행 진 월동 VIP 라운지 XXX 올림</td>\n",
       "    </tr>\n",
       "    <tr>\n",
       "      <th>2</th>\n",
       "      <td>2</td>\n",
       "      <td>2017-01</td>\n",
       "      <td>안녕하십니까 고객님. XXX은행입니다.금일 납부하셔야 할 금액은 153600원 입니...</td>\n",
       "      <td>0</td>\n",
       "      <td>안녕하십니까 고객 님 [SEP] XXX 은행 입니다 [SEP] 금일 납부 하셔야 할...</td>\n",
       "    </tr>\n",
       "    <tr>\n",
       "      <th>3</th>\n",
       "      <td>4</td>\n",
       "      <td>2017-01</td>\n",
       "      <td>XXX 고객님안녕하세요XXX은행 XXX지점입니다지난 한 해 동안 저희 XXX지점에 ...</td>\n",
       "      <td>0</td>\n",
       "      <td>XXX 고객 님 안녕하세요 XXX 은행 XXX 지점 입니다지난 한 해 동안 저희 X...</td>\n",
       "    </tr>\n",
       "    <tr>\n",
       "      <th>4</th>\n",
       "      <td>5</td>\n",
       "      <td>2017-01</td>\n",
       "      <td>1월은 새로움이 가득XXX입니다.올 한해 더 많이행복한 한해되시길바랍니다</td>\n",
       "      <td>0</td>\n",
       "      <td>1월 은 새 로움 이 가득 XXX 입니다 [SEP] 올 한해 더 많이 행복 한 한해...</td>\n",
       "    </tr>\n",
       "  </tbody>\n",
       "</table>\n",
       "</div>"
      ],
      "text/plain": [
       "   id year_month                                               text  smishing  \\\n",
       "0   0    2017-01                           XXX은행성산XXX팀장입니다.행복한주말되세요         0   \n",
       "1   1    2017-01              오늘도많이웃으시는하루시작하세요XXX은행 진월동VIP라운지 XXX올림         0   \n",
       "2   2    2017-01  안녕하십니까 고객님. XXX은행입니다.금일 납부하셔야 할 금액은 153600원 입니...         0   \n",
       "3   4    2017-01  XXX 고객님안녕하세요XXX은행 XXX지점입니다지난 한 해 동안 저희 XXX지점에 ...         0   \n",
       "4   5    2017-01           1월은 새로움이 가득XXX입니다.올 한해 더 많이행복한 한해되시길바랍니다         0   \n",
       "\n",
       "                                              morphs  \n",
       "0              XXX 은행 성산 XXX 팀 장 입니다 [SEP] 행복한주말 되세요  \n",
       "1  오늘 도 많이 웃으시는 하루 시작 하세요 XXX 은행 진 월동 VIP 라운지 XXX 올림  \n",
       "2  안녕하십니까 고객 님 [SEP] XXX 은행 입니다 [SEP] 금일 납부 하셔야 할...  \n",
       "3  XXX 고객 님 안녕하세요 XXX 은행 XXX 지점 입니다지난 한 해 동안 저희 X...  \n",
       "4  1월 은 새 로움 이 가득 XXX 입니다 [SEP] 올 한해 더 많이 행복 한 한해...  "
      ]
     },
     "execution_count": 11,
     "metadata": {},
     "output_type": "execute_result"
    }
   ],
   "source": [
    "train_df.head()"
   ]
  },
  {
   "cell_type": "code",
   "execution_count": 12,
   "metadata": {},
   "outputs": [
    {
     "data": {
      "text/html": [
       "<div>\n",
       "<style scoped>\n",
       "    .dataframe tbody tr th:only-of-type {\n",
       "        vertical-align: middle;\n",
       "    }\n",
       "\n",
       "    .dataframe tbody tr th {\n",
       "        vertical-align: top;\n",
       "    }\n",
       "\n",
       "    .dataframe thead th {\n",
       "        text-align: right;\n",
       "    }\n",
       "</style>\n",
       "<table border=\"1\" class=\"dataframe\">\n",
       "  <thead>\n",
       "    <tr style=\"text-align: right;\">\n",
       "      <th></th>\n",
       "      <th>id</th>\n",
       "      <th>year_month</th>\n",
       "      <th>text</th>\n",
       "      <th>morphs</th>\n",
       "    </tr>\n",
       "  </thead>\n",
       "  <tbody>\n",
       "    <tr>\n",
       "      <th>0</th>\n",
       "      <td>340000</td>\n",
       "      <td>2019-01</td>\n",
       "      <td>XXX고객님! 안녕하세요? 새롭게 시작하는 한 주 행복 가득하시길 기원합니다. 지난...</td>\n",
       "      <td>XXX 고객 님 ! 안녕하세요 ? 새롭게 시작 하는 한 주 행복 가득하시길 기원 합...</td>\n",
       "    </tr>\n",
       "    <tr>\n",
       "      <th>1</th>\n",
       "      <td>340001</td>\n",
       "      <td>2019-01</td>\n",
       "      <td>긴급 안내  XXX은행 가락동 지점  - 헬리오XXX 기본XXX    대출이자를 ...</td>\n",
       "      <td>긴급 안내 XXX 은행 가락동 지점 - 헬리 오 XXX 기본 XXX 대출 이자 를 ...</td>\n",
       "    </tr>\n",
       "    <tr>\n",
       "      <th>2</th>\n",
       "      <td>340002</td>\n",
       "      <td>2019-01</td>\n",
       "      <td>XXX 고객님 안녕하세요올해는 미세먼지가 유난인거 같습니다.엊그제 새해가 시작된거같...</td>\n",
       "      <td>XXX 고객 님 안녕하세요 올해 는 미세먼지 가 유난 인거 같습니다 [SEP] 엊그...</td>\n",
       "    </tr>\n",
       "    <tr>\n",
       "      <th>3</th>\n",
       "      <td>340003</td>\n",
       "      <td>2019-01</td>\n",
       "      <td>XXX 고객님찾아온 행운을 잡으셨나요? 못잡으셨다면 이번에 다시 잡으시길 기원합니다...</td>\n",
       "      <td>XXX 고객 님 찾아온 행운 을 잡으셨나요 ? 못잡으셨다면 이번 에 다시 잡으시길 ...</td>\n",
       "    </tr>\n",
       "    <tr>\n",
       "      <th>4</th>\n",
       "      <td>340004</td>\n",
       "      <td>2019-01</td>\n",
       "      <td>XXX 고객님새해 복 많이 받으세요 XXX은행 코스트코 퇴직연금 담당자입니다.  고...</td>\n",
       "      <td>XXX 고객 님 새해 복 많이 받으세요 XXX 은행 코스트코 퇴직 연금 담당자 입니...</td>\n",
       "    </tr>\n",
       "  </tbody>\n",
       "</table>\n",
       "</div>"
      ],
      "text/plain": [
       "       id year_month                                               text  \\\n",
       "0  340000    2019-01  XXX고객님! 안녕하세요? 새롭게 시작하는 한 주 행복 가득하시길 기원합니다. 지난...   \n",
       "1  340001    2019-01   긴급 안내  XXX은행 가락동 지점  - 헬리오XXX 기본XXX    대출이자를 ...   \n",
       "2  340002    2019-01  XXX 고객님 안녕하세요올해는 미세먼지가 유난인거 같습니다.엊그제 새해가 시작된거같...   \n",
       "3  340003    2019-01  XXX 고객님찾아온 행운을 잡으셨나요? 못잡으셨다면 이번에 다시 잡으시길 기원합니다...   \n",
       "4  340004    2019-01  XXX 고객님새해 복 많이 받으세요 XXX은행 코스트코 퇴직연금 담당자입니다.  고...   \n",
       "\n",
       "                                              morphs  \n",
       "0  XXX 고객 님 ! 안녕하세요 ? 새롭게 시작 하는 한 주 행복 가득하시길 기원 합...  \n",
       "1  긴급 안내 XXX 은행 가락동 지점 - 헬리 오 XXX 기본 XXX 대출 이자 를 ...  \n",
       "2  XXX 고객 님 안녕하세요 올해 는 미세먼지 가 유난 인거 같습니다 [SEP] 엊그...  \n",
       "3  XXX 고객 님 찾아온 행운 을 잡으셨나요 ? 못잡으셨다면 이번 에 다시 잡으시길 ...  \n",
       "4  XXX 고객 님 새해 복 많이 받으세요 XXX 은행 코스트코 퇴직 연금 담당자 입니...  "
      ]
     },
     "execution_count": 12,
     "metadata": {},
     "output_type": "execute_result"
    }
   ],
   "source": [
    "test_df.head()"
   ]
  },
  {
   "cell_type": "code",
   "execution_count": 13,
   "metadata": {},
   "outputs": [
    {
     "name": "stdout",
     "output_type": "stream",
     "text": [
      "Wall time: 3.6 s\n"
     ]
    }
   ],
   "source": [
    "%%time\n",
    "train_df.to_csv(\"../KB_NLP/konlpy_otk_morphs/morphs_train.csv\", index=False)\n",
    "test_df.to_csv(\"../KB_NLP/konlpy_otk_morphs/morphs_test.csv\", index=False)"
   ]
  }
 ],
 "metadata": {
  "kernelspec": {
   "display_name": "Python 3",
   "language": "python",
   "name": "python3"
  },
  "language_info": {
   "codemirror_mode": {
    "name": "ipython",
    "version": 3
   },
   "file_extension": ".py",
   "mimetype": "text/x-python",
   "name": "python",
   "nbconvert_exporter": "python",
   "pygments_lexer": "ipython3",
   "version": "3.7.5"
  }
 },
 "nbformat": 4,
 "nbformat_minor": 4
}
